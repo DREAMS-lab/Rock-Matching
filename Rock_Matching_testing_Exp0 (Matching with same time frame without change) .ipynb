{
 "cells": [
  {
   "cell_type": "code",
   "execution_count": 1,
   "metadata": {
    "id": "J209jyi-hPve",
    "scrolled": true
   },
   "outputs": [],
   "source": [
    "#pip install geopandas"
   ]
  },
  {
   "cell_type": "code",
   "execution_count": 2,
   "metadata": {
    "id": "TBj7MxwRqgUX",
    "scrolled": true
   },
   "outputs": [],
   "source": [
    "#pip install folium matplotlib mapclassify"
   ]
  },
  {
   "cell_type": "code",
   "execution_count": 3,
   "metadata": {},
   "outputs": [],
   "source": [
    "import warnings\n",
    "warnings.filterwarnings('ignore')"
   ]
  },
  {
   "cell_type": "code",
   "execution_count": 51,
   "metadata": {
    "id": "a7dyLY0gmaQ-"
   },
   "outputs": [],
   "source": [
    "import geopandas as gpd \n",
    "import matplotlib.pyplot as plt\n",
    "import numpy as np\n",
    "from math import pi, sqrt\n",
    "from matplotlib.patches import ConnectionPatch\n",
    "\n",
    "from shapely import geometry\n",
    "import math"
   ]
  },
  {
   "cell_type": "code",
   "execution_count": 6,
   "metadata": {
    "id": "e3TbxEgxmYpt"
   },
   "outputs": [],
   "source": [
    "df = gpd.read_file(\"BF_10_03_2020.zip\")"
   ]
  },
  {
   "cell_type": "code",
   "execution_count": 7,
   "metadata": {
    "id": "CmDKOGRxthYf"
   },
   "outputs": [],
   "source": [
    "# df2 = gpd.read_file(\"BF_08_02_2020.zip\")\n",
    "df2 = df"
   ]
  },
  {
   "cell_type": "code",
   "execution_count": 10,
   "metadata": {
    "colab": {
     "base_uri": "https://localhost:8080/"
    },
    "executionInfo": {
     "elapsed": 252,
     "status": "ok",
     "timestamp": 1655149325721,
     "user": {
      "displayName": "Krutarth Bhatt",
      "userId": "12834935479488028010"
     },
     "user_tz": 420
    },
    "id": "VLzV5WDej0r8",
    "outputId": "5619f7b4-22e5-4244-9476-0f6bab9ff981",
    "scrolled": true
   },
   "outputs": [
    {
     "data": {
      "text/html": [
       "<div>\n",
       "<style scoped>\n",
       "    .dataframe tbody tr th:only-of-type {\n",
       "        vertical-align: middle;\n",
       "    }\n",
       "\n",
       "    .dataframe tbody tr th {\n",
       "        vertical-align: top;\n",
       "    }\n",
       "\n",
       "    .dataframe thead th {\n",
       "        text-align: right;\n",
       "    }\n",
       "</style>\n",
       "<table border=\"1\" class=\"dataframe\">\n",
       "  <thead>\n",
       "    <tr style=\"text-align: right;\">\n",
       "      <th></th>\n",
       "      <th>mvt_id</th>\n",
       "      <th>DN</th>\n",
       "      <th>geometry</th>\n",
       "    </tr>\n",
       "  </thead>\n",
       "  <tbody>\n",
       "    <tr>\n",
       "      <th>0</th>\n",
       "      <td>None</td>\n",
       "      <td>4.0</td>\n",
       "      <td>POLYGON ((-12386059.874 3999557.689, -12386059...</td>\n",
       "    </tr>\n",
       "    <tr>\n",
       "      <th>1</th>\n",
       "      <td>None</td>\n",
       "      <td>4.0</td>\n",
       "      <td>POLYGON ((-12386059.071 3999554.741, -12386059...</td>\n",
       "    </tr>\n",
       "    <tr>\n",
       "      <th>2</th>\n",
       "      <td>None</td>\n",
       "      <td>4.0</td>\n",
       "      <td>POLYGON ((-12386059.538 3999554.349, -12386059...</td>\n",
       "    </tr>\n",
       "    <tr>\n",
       "      <th>3</th>\n",
       "      <td>None</td>\n",
       "      <td>4.0</td>\n",
       "      <td>POLYGON ((-12386058.418 3999557.932, -12386058...</td>\n",
       "    </tr>\n",
       "    <tr>\n",
       "      <th>4</th>\n",
       "      <td>None</td>\n",
       "      <td>4.0</td>\n",
       "      <td>POLYGON ((-12386057.896 3999557.932, -12386057...</td>\n",
       "    </tr>\n",
       "  </tbody>\n",
       "</table>\n",
       "</div>"
      ],
      "text/plain": [
       "  mvt_id   DN                                           geometry\n",
       "0   None  4.0  POLYGON ((-12386059.874 3999557.689, -12386059...\n",
       "1   None  4.0  POLYGON ((-12386059.071 3999554.741, -12386059...\n",
       "2   None  4.0  POLYGON ((-12386059.538 3999554.349, -12386059...\n",
       "3   None  4.0  POLYGON ((-12386058.418 3999557.932, -12386058...\n",
       "4   None  4.0  POLYGON ((-12386057.896 3999557.932, -12386057..."
      ]
     },
     "execution_count": 10,
     "metadata": {},
     "output_type": "execute_result"
    }
   ],
   "source": [
    "df.head()"
   ]
  },
  {
   "cell_type": "markdown",
   "metadata": {
    "id": "n_QtgWLEtwM2"
   },
   "source": [
    "# For df1 (Oct 2020) "
   ]
  },
  {
   "cell_type": "code",
   "execution_count": 11,
   "metadata": {
    "id": "hn15OU0Gnzg2"
   },
   "outputs": [],
   "source": [
    "df[\"area\"] = df.area"
   ]
  },
  {
   "cell_type": "code",
   "execution_count": 12,
   "metadata": {
    "colab": {
     "base_uri": "https://localhost:8080/"
    },
    "executionInfo": {
     "elapsed": 498,
     "status": "ok",
     "timestamp": 1655149330008,
     "user": {
      "displayName": "Krutarth Bhatt",
      "userId": "12834935479488028010"
     },
     "user_tz": 420
    },
    "id": "krArQoe_rOO2",
    "outputId": "f082ecb2-d842-401f-ba1c-69a67824a4e1"
   },
   "outputs": [
    {
     "data": {
      "text/plain": [
       "0       POINT (-12386059.874 3999557.488)\n",
       "1       POINT (-12386059.123 3999554.551)\n",
       "2       POINT (-12386059.490 3999554.273)\n",
       "3       POINT (-12386058.413 3999557.855)\n",
       "4       POINT (-12386057.928 3999557.859)\n",
       "                      ...                \n",
       "7360    POINT (-12385927.687 3999598.412)\n",
       "7361    POINT (-12385920.748 3999494.777)\n",
       "7362    POINT (-12385922.418 3999593.478)\n",
       "7363    POINT (-12385922.833 3999591.188)\n",
       "7364    POINT (-12385921.579 3999589.459)\n",
       "Name: centroid, Length: 7365, dtype: geometry"
      ]
     },
     "execution_count": 12,
     "metadata": {},
     "output_type": "execute_result"
    }
   ],
   "source": [
    "df['centroid'] = df.centroid\n",
    "df['centroid']"
   ]
  },
  {
   "cell_type": "code",
   "execution_count": 13,
   "metadata": {
    "colab": {
     "base_uri": "https://localhost:8080/",
     "height": 501
    },
    "executionInfo": {
     "elapsed": 645,
     "status": "ok",
     "timestamp": 1655149330651,
     "user": {
      "displayName": "Krutarth Bhatt",
      "userId": "12834935479488028010"
     },
     "user_tz": 420
    },
    "id": "OARUH7DvolFJ",
    "outputId": "e602da0a-bad9-4d03-83a1-b835dc127083"
   },
   "outputs": [
    {
     "data": {
      "text/plain": [
       "<AxesSubplot:ylabel='Frequency'>"
      ]
     },
     "execution_count": 13,
     "metadata": {},
     "output_type": "execute_result"
    },
    {
     "data": {
      "image/png": "[encoded data removed]",
      "text/plain": [
       "<Figure size 1152x576 with 1 Axes>"
      ]
     },
     "metadata": {
      "needs_background": "light"
     },
     "output_type": "display_data"
    }
   ],
   "source": [
    "plt.figure(figsize=(16, 8))\n",
    "df[\"area\"].plot(kind='hist', bins = 100)"
   ]
  },
  {
   "cell_type": "code",
   "execution_count": null,
   "metadata": {
    "colab": {
     "base_uri": "https://localhost:8080/",
     "height": 919
    },
    "executionInfo": {
     "elapsed": 2330,
     "status": "ok",
     "timestamp": 1655149332975,
     "user": {
      "displayName": "Krutarth Bhatt",
      "userId": "12834935479488028010"
     },
     "user_tz": 420
    },
    "id": "KW1FZvJWorza",
    "outputId": "0d0e32a8-01c5-4910-82d8-6dc89797e6f7",
    "scrolled": true
   },
   "outputs": [],
   "source": [
    "# plt.figure(figsize=(16, 16))\n",
    "df.plot(\"area\", legend=True, figsize=(16, 16))"
   ]
  },
  {
   "cell_type": "code",
   "execution_count": null,
   "metadata": {
    "colab": {
     "base_uri": "https://localhost:8080/",
     "height": 919
    },
    "executionInfo": {
     "elapsed": 1720,
     "status": "ok",
     "timestamp": 1655149334688,
     "user": {
      "displayName": "Krutarth Bhatt",
      "userId": "12834935479488028010"
     },
     "user_tz": 420
    },
    "id": "yCVZtf3sqXZH",
    "outputId": "db7e129a-96ff-4f0e-ef22-2997984b1019",
    "scrolled": true
   },
   "outputs": [],
   "source": [
    "# plt.figure(figsize=(16, 16))\n",
    "df = df.set_geometry(\"centroid\")\n",
    "df.plot(\"area\", legend=True, figsize=(16, 16))"
   ]
  },
  {
   "cell_type": "code",
   "execution_count": 16,
   "metadata": {
    "id": "KJUL7k3srUHJ"
   },
   "outputs": [],
   "source": [
    "df = df.set_geometry(\"geometry\")"
   ]
  },
  {
   "cell_type": "markdown",
   "metadata": {
    "id": "5dc1ncTIt0AS"
   },
   "source": [
    "# For df2 (Aug 2020)"
   ]
  },
  {
   "cell_type": "code",
   "execution_count": 17,
   "metadata": {
    "id": "sdUNU06zr2cZ"
   },
   "outputs": [],
   "source": [
    "df2[\"area\"] = df2.area"
   ]
  },
  {
   "cell_type": "code",
   "execution_count": 18,
   "metadata": {
    "colab": {
     "base_uri": "https://localhost:8080/"
    },
    "executionInfo": {
     "elapsed": 3,
     "status": "ok",
     "timestamp": 1655149342046,
     "user": {
      "displayName": "Krutarth Bhatt",
      "userId": "12834935479488028010"
     },
     "user_tz": 420
    },
    "id": "1FrpOJ3Ht5wh",
    "outputId": "f344b471-dea4-4bd2-c3aa-d61a9907277c"
   },
   "outputs": [
    {
     "data": {
      "text/plain": [
       "0       POINT (-12386059.874 3999557.488)\n",
       "1       POINT (-12386059.123 3999554.551)\n",
       "2       POINT (-12386059.490 3999554.273)\n",
       "3       POINT (-12386058.413 3999557.855)\n",
       "4       POINT (-12386057.928 3999557.859)\n",
       "                      ...                \n",
       "7360    POINT (-12385927.687 3999598.412)\n",
       "7361    POINT (-12385920.748 3999494.777)\n",
       "7362    POINT (-12385922.418 3999593.478)\n",
       "7363    POINT (-12385922.833 3999591.188)\n",
       "7364    POINT (-12385921.579 3999589.459)\n",
       "Name: centroid, Length: 7365, dtype: geometry"
      ]
     },
     "execution_count": 18,
     "metadata": {},
     "output_type": "execute_result"
    }
   ],
   "source": [
    "df2['centroid'] = df2.centroid\n",
    "df2['centroid']"
   ]
  },
  {
   "cell_type": "code",
   "execution_count": 19,
   "metadata": {
    "colab": {
     "base_uri": "https://localhost:8080/",
     "height": 501
    },
    "executionInfo": {
     "elapsed": 374,
     "status": "ok",
     "timestamp": 1655149342612,
     "user": {
      "displayName": "Krutarth Bhatt",
      "userId": "12834935479488028010"
     },
     "user_tz": 420
    },
    "id": "DqeyDVaUt7km",
    "outputId": "ed97449d-1a31-4e1a-82c9-dca0cf3a477c"
   },
   "outputs": [
    {
     "data": {
      "text/plain": [
       "<AxesSubplot:ylabel='Frequency'>"
      ]
     },
     "execution_count": 19,
     "metadata": {},
     "output_type": "execute_result"
    },
    {
     "data": {
      "image/png": "[encoded data removed]",
      "text/plain": [
       "<Figure size 1152x576 with 1 Axes>"
      ]
     },
     "metadata": {
      "needs_background": "light"
     },
     "output_type": "display_data"
    }
   ],
   "source": [
    "plt.figure(figsize=(16, 8))\n",
    "df2[\"area\"].plot(kind='hist', bins = 100)"
   ]
  },
  {
   "cell_type": "code",
   "execution_count": null,
   "metadata": {
    "colab": {
     "base_uri": "https://localhost:8080/",
     "height": 919
    },
    "executionInfo": {
     "elapsed": 1682,
     "status": "ok",
     "timestamp": 1655149344580,
     "user": {
      "displayName": "Krutarth Bhatt",
      "userId": "12834935479488028010"
     },
     "user_tz": 420
    },
    "id": "w0WmMLhfuBgU",
    "outputId": "478655c6-2b28-405d-d0f5-434304ca4d7a",
    "scrolled": true
   },
   "outputs": [],
   "source": [
    "df2.plot(\"area\", legend=True, figsize=(16, 16))"
   ]
  },
  {
   "cell_type": "markdown",
   "metadata": {},
   "source": [
    "## Calculating Ecc"
   ]
  },
  {
   "cell_type": "code",
   "execution_count": 21,
   "metadata": {},
   "outputs": [],
   "source": [
    "## Get Eccentricity \n",
    "\n",
    "import numpy as np\n",
    "from scipy.spatial.distance import euclidean\n",
    "\n",
    "def get_ecc(area_polygon):\n",
    "    points = np.array(area_polygon)\n",
    "\n",
    "    small_latwise = np.min(points[points[:, 0] == np.min(points[:, 0])], 0)\n",
    "    small_lonwise = np.min(points[points[:, 1] == np.min(points[:, 1])], 0)\n",
    "    big_latwise = np.max(points[points[:, 0] == np.max(points[:, 0])], 0)\n",
    "    big_lonwise = np.max(points[points[:, 1] == np.max(points[:, 1])], 0)\n",
    "    distance_lat = euclidean(big_latwise, small_latwise)\n",
    "    distance_lon = euclidean(big_lonwise, small_lonwise)\n",
    "    if distance_lat >= distance_lon:\n",
    "        major_axis_length = distance_lat\n",
    "        minor_axis_length = distance_lon\n",
    "    else:\n",
    "        major_axis_length = distance_lon\n",
    "        minor_axis_length = distance_lat\n",
    "    a = major_axis_length/2\n",
    "    b = minor_axis_length/2\n",
    "    ecc = np.sqrt(np.square(a)-np.square(b))/a\n",
    "    return ecc"
   ]
  },
  {
   "cell_type": "code",
   "execution_count": 22,
   "metadata": {},
   "outputs": [],
   "source": [
    "df['ecc'] = None\n",
    "\n",
    "for j in range(len(df)):\n",
    "    try:\n",
    "        area_polygon = [[i[1],i[0]] for i in list(df['geometry'][j].exterior.coords)]\n",
    "    except:\n",
    "        area_polygon = [[i[1],i[0]]  for poly in list(df['geometry'][j]) for i in list(poly.exterior.coords) ]\n",
    "    df['ecc'][j] = get_ecc(area_polygon)"
   ]
  },
  {
   "cell_type": "code",
   "execution_count": 23,
   "metadata": {},
   "outputs": [],
   "source": [
    "df2['ecc'] = None\n",
    "\n",
    "for j in range(len(df2)):\n",
    "    #print(j)\n",
    "    try:\n",
    "        area_polygon = [[i[1],i[0]] for i in list(df2['geometry'][j].exterior.coords)]\n",
    "    except:\n",
    "        area_polygon = [[i[1],i[0]]  for poly in list(df2['geometry'][j]) for i in list(poly.exterior.coords)]\n",
    "            \n",
    "    df2['ecc'][j] = get_ecc(area_polygon)"
   ]
  },
  {
   "cell_type": "markdown",
   "metadata": {},
   "source": [
    "## Perimeter of Polygons"
   ]
  },
  {
   "cell_type": "code",
   "execution_count": 24,
   "metadata": {},
   "outputs": [],
   "source": [
    "df[\"perimeter\"] = df[\"geometry\"].length"
   ]
  },
  {
   "cell_type": "code",
   "execution_count": 25,
   "metadata": {},
   "outputs": [],
   "source": [
    "df2[\"perimeter\"] = df2[\"geometry\"].length"
   ]
  },
  {
   "cell_type": "code",
   "execution_count": 26,
   "metadata": {},
   "outputs": [
    {
     "data": {
      "text/plain": [
       "<AxesSubplot:ylabel='Frequency'>"
      ]
     },
     "execution_count": 26,
     "metadata": {},
     "output_type": "execute_result"
    },
    {
     "data": {
      "image/png": "[encoded data removed]",
      "text/plain": [
       "<Figure size 432x288 with 1 Axes>"
      ]
     },
     "metadata": {
      "needs_background": "light"
     },
     "output_type": "display_data"
    }
   ],
   "source": [
    "df2['perimeter'].plot(kind='hist')"
   ]
  },
  {
   "cell_type": "markdown",
   "metadata": {},
   "source": [
    "## Compactness"
   ]
  },
  {
   "cell_type": "code",
   "execution_count": 27,
   "metadata": {},
   "outputs": [],
   "source": [
    "def pp_compactness(geom): # Polsby-Popper\n",
    "    p = geom.length\n",
    "    a = geom.area    \n",
    "    return (4*pi*a)/(p*p)"
   ]
  },
  {
   "cell_type": "code",
   "execution_count": 28,
   "metadata": {},
   "outputs": [],
   "source": [
    "df[\"compactness\"] = df.geometry.apply(pp_compactness)\n",
    "df2[\"compactness\"] = df2.geometry.apply(pp_compactness)"
   ]
  },
  {
   "cell_type": "code",
   "execution_count": 29,
   "metadata": {},
   "outputs": [
    {
     "data": {
      "text/plain": [
       "<AxesSubplot:ylabel='Frequency'>"
      ]
     },
     "execution_count": 29,
     "metadata": {},
     "output_type": "execute_result"
    },
    {
     "data": {
      "image/png": "[encoded data removed]",
      "text/plain": [
       "<Figure size 432x288 with 1 Axes>"
      ]
     },
     "metadata": {
      "needs_background": "light"
     },
     "output_type": "display_data"
    }
   ],
   "source": [
    "df2['compactness'].plot(kind='hist')"
   ]
  },
  {
   "cell_type": "markdown",
   "metadata": {},
   "source": [
    "## Convexity"
   ]
  },
  {
   "cell_type": "code",
   "execution_count": 31,
   "metadata": {},
   "outputs": [],
   "source": [
    "def convexity(geom): # Polsby-Popper\n",
    "    p = geom.convex_hull.length\n",
    "    a = geom.length    \n",
    "    return (p/a)"
   ]
  },
  {
   "cell_type": "code",
   "execution_count": 32,
   "metadata": {},
   "outputs": [],
   "source": [
    "df[\"convexity\"] = df.geometry.apply(convexity)"
   ]
  },
  {
   "cell_type": "code",
   "execution_count": 33,
   "metadata": {},
   "outputs": [],
   "source": [
    "df2[\"convexity\"] = df2.geometry.apply(convexity)"
   ]
  },
  {
   "cell_type": "code",
   "execution_count": 34,
   "metadata": {},
   "outputs": [
    {
     "data": {
      "text/plain": [
       "<AxesSubplot:ylabel='Frequency'>"
      ]
     },
     "execution_count": 34,
     "metadata": {},
     "output_type": "execute_result"
    },
    {
     "data": {
      "image/png": "[encoded data removed]",
      "text/plain": [
       "<Figure size 432x288 with 1 Axes>"
      ]
     },
     "metadata": {
      "needs_background": "light"
     },
     "output_type": "display_data"
    }
   ],
   "source": [
    "df2[\"convexity\"].plot(kind='hist')"
   ]
  },
  {
   "cell_type": "markdown",
   "metadata": {},
   "source": [
    "## Solidity"
   ]
  },
  {
   "cell_type": "code",
   "execution_count": 35,
   "metadata": {},
   "outputs": [],
   "source": [
    "def solidity(geom): # Polsby-Popper\n",
    "    convex_area = geom.convex_hull.area\n",
    "    area = geom.area    \n",
    "    return (area/convex_area)"
   ]
  },
  {
   "cell_type": "code",
   "execution_count": 36,
   "metadata": {},
   "outputs": [],
   "source": [
    "df[\"solidity\"] = df.geometry.apply(solidity)"
   ]
  },
  {
   "cell_type": "code",
   "execution_count": 37,
   "metadata": {},
   "outputs": [],
   "source": [
    "df2[\"solidity\"] = df.geometry.apply(solidity)"
   ]
  },
  {
   "cell_type": "code",
   "execution_count": 38,
   "metadata": {},
   "outputs": [
    {
     "data": {
      "text/plain": [
       "<AxesSubplot:ylabel='Frequency'>"
      ]
     },
     "execution_count": 38,
     "metadata": {},
     "output_type": "execute_result"
    },
    {
     "data": {
      "image/png": "[encoded data removed]",
      "text/plain": [
       "<Figure size 432x288 with 1 Axes>"
      ]
     },
     "metadata": {
      "needs_background": "light"
     },
     "output_type": "display_data"
    }
   ],
   "source": [
    "df2[\"convexity\"].plot(kind='hist')"
   ]
  },
  {
   "cell_type": "markdown",
   "metadata": {},
   "source": [
    "## Angle of Longest Segment of Min Rotated Rectangel "
   ]
  },
  {
   "cell_type": "code",
   "execution_count": 52,
   "metadata": {},
   "outputs": [],
   "source": [
    "\n",
    "def getAngle(geom):\n",
    "    g = geom\n",
    "    a = g.minimum_rotated_rectangle\n",
    "    l = a.boundary\n",
    "    coords = [c for c in l.coords]\n",
    "    segments = [geometry.LineString([a, b]) for a, b in zip(coords,coords[1:])]\n",
    "    longest_segment = max(segments, key=lambda x: x.length)\n",
    "\n",
    "    p1, p2 = [c for c in longest_segment.coords]\n",
    "    angle = math.degrees(math.atan2(p2[1]-p1[1], p2[0]-p1[0]))\n",
    "    \n",
    "    return angle"
   ]
  },
  {
   "cell_type": "code",
   "execution_count": 53,
   "metadata": {},
   "outputs": [
    {
     "data": {
      "text/plain": [
       "Index(['mvt_id', 'DN', 'geometry', 'area', 'centroid', 'ecc', 'perimeter',\n",
       "       'compactness', 'convexity', 'solidity'],\n",
       "      dtype='object')"
      ]
     },
     "execution_count": 53,
     "metadata": {},
     "output_type": "execute_result"
    }
   ],
   "source": [
    "df.columns"
   ]
  },
  {
   "cell_type": "code",
   "execution_count": 54,
   "metadata": {},
   "outputs": [],
   "source": [
    "df = df.set_geometry('geometry')\n",
    "df[\"angle\"] = df.geometry.apply(getAngle)"
   ]
  },
  {
   "cell_type": "code",
   "execution_count": 55,
   "metadata": {},
   "outputs": [],
   "source": [
    "df2 = df2.set_geometry('geometry')\n",
    "df2[\"angle\"] = df2.geometry.apply(getAngle)"
   ]
  },
  {
   "cell_type": "code",
   "execution_count": 58,
   "metadata": {},
   "outputs": [
    {
     "data": {
      "text/plain": [
       "<AxesSubplot:ylabel='Frequency'>"
      ]
     },
     "execution_count": 58,
     "metadata": {},
     "output_type": "execute_result"
    },
    {
     "data": {
      "image/png": "[encoded data removed]",
      "text/plain": [
       "<Figure size 432x288 with 1 Axes>"
      ]
     },
     "metadata": {
      "needs_background": "light"
     },
     "output_type": "display_data"
    }
   ],
   "source": [
    "df[\"angle\"].plot(kind='hist')"
   ]
  },
  {
   "cell_type": "markdown",
   "metadata": {},
   "source": [
    "## Vectorization "
   ]
  },
  {
   "cell_type": "code",
   "execution_count": 59,
   "metadata": {},
   "outputs": [
    {
     "data": {
      "text/plain": [
       "Index(['mvt_id', 'DN', 'geometry', 'area', 'centroid', 'ecc', 'perimeter',\n",
       "       'compactness', 'convexity', 'solidity', 'angle'],\n",
       "      dtype='object')"
      ]
     },
     "execution_count": 59,
     "metadata": {},
     "output_type": "execute_result"
    }
   ],
   "source": [
    "df.columns"
   ]
  },
  {
   "cell_type": "code",
   "execution_count": 60,
   "metadata": {},
   "outputs": [],
   "source": [
    "df['feature_vec'] = None\n",
    "\n",
    "for i in range(len(df)):\n",
    "    df['feature_vec'][i] = [df[\"area\"][i], df['ecc'][i], df['perimeter'][i], df['compactness'][i], df['convexity'][i], df['solidity'][i], df['angle'][i]]"
   ]
  },
  {
   "cell_type": "code",
   "execution_count": 61,
   "metadata": {},
   "outputs": [],
   "source": [
    "df2['feature_vec'] = None\n",
    "\n",
    "for i in range(len(df2)):\n",
    "    df2['feature_vec'][i] = [df2[\"area\"][i], df2['ecc'][i], df2['perimeter'][i], df2['compactness'][i], df2['convexity'][i], df2['solidity'][i], df2['angle'][i]]"
   ]
  },
  {
   "cell_type": "markdown",
   "metadata": {},
   "source": [
    "## TS_SS Similarity "
   ]
  },
  {
   "cell_type": "code",
   "execution_count": 62,
   "metadata": {},
   "outputs": [
    {
     "name": "stdout",
     "output_type": "stream",
     "text": [
      "2.23606797749979\n",
      "0.9999999999999998\n",
      "0.0004639582566999478\n"
     ]
    }
   ],
   "source": [
    "import math\n",
    "\n",
    "def Cosine(vec1, vec2) :\n",
    "    result = InnerProduct(vec1,vec2) / (VectorSize(vec1) * VectorSize(vec2))\n",
    "    return result\n",
    "\n",
    "def VectorSize(vec) :\n",
    "    return math.sqrt(sum(math.pow(v,2) for v in vec))\n",
    "\n",
    "def InnerProduct(vec1, vec2) :\n",
    "    return sum(v1*v2 for v1,v2 in zip(vec1,vec2))\n",
    "\n",
    "def Euclidean(vec1, vec2) :\n",
    "    return math.sqrt(sum(math.pow((v1-v2),2) for v1,v2 in zip(vec1, vec2)))\n",
    "\n",
    "def Theta(vec1, vec2) :\n",
    "    return math.acos(Cosine(vec1,vec2)) + math.radians(10)\n",
    "\n",
    "def Triangle(vec1, vec2) :\n",
    "    theta = math.radians(Theta(vec1,vec2))\n",
    "    return (VectorSize(vec1) * VectorSize(vec2) * math.sin(theta)) / 2\n",
    "\n",
    "def Magnitude_Difference(vec1, vec2) :\n",
    "    return abs(VectorSize(vec1) - VectorSize(vec2))\n",
    "\n",
    "def Sector(vec1, vec2) :\n",
    "    ED = Euclidean(vec1, vec2)\n",
    "    MD = Magnitude_Difference(vec1, vec2)\n",
    "    theta = Theta(vec1, vec2)\n",
    "    return math.pi * math.pow((ED+MD),2) * theta/360\n",
    "\n",
    "def TS_SS(vec1, vec2) :\n",
    "    return Triangle(vec1, vec2) * Sector(vec1, vec2)\n",
    "\n",
    "vec1 = [1,2]\n",
    "vec2 = [2,4]\n",
    "\n",
    "print(Euclidean(vec1,vec2))\n",
    "print(Cosine(vec1,vec2))\n",
    "print(TS_SS(vec1,vec2))"
   ]
  },
  {
   "cell_type": "code",
   "execution_count": 80,
   "metadata": {},
   "outputs": [],
   "source": [
    "# TS_SS(df['feature_vec'][1], df2['feature_vec'][1])\n",
    "df = df.drop(['nearest_matching_polygon_ts_ss', 'nearest_matching_polygon'], axis=1)"
   ]
  },
  {
   "cell_type": "code",
   "execution_count": 81,
   "metadata": {},
   "outputs": [
    {
     "data": {
      "text/plain": [
       "Index(['mvt_id', 'DN', 'geometry', 'area', 'centroid', 'ecc', 'perimeter',\n",
       "       'compactness', 'convexity', 'solidity', 'angle', 'feature_vec',\n",
       "       'min_ts_ss'],\n",
       "      dtype='object')"
      ]
     },
     "execution_count": 81,
     "metadata": {},
     "output_type": "execute_result"
    }
   ],
   "source": [
    "df.columns"
   ]
  },
  {
   "cell_type": "markdown",
   "metadata": {},
   "source": [
    "## Individual Rock Matching based on feature_vec with TS_SS "
   ]
  },
  {
   "cell_type": "code",
   "execution_count": null,
   "metadata": {
    "scrolled": false
   },
   "outputs": [],
   "source": [
    "df['nearest_matching_polygon_ts_ss'] = None\n",
    "df['min_ts_ss'] = 1000000000.0\n",
    "\n",
    "for i in range(len(df)):\n",
    "    \n",
    "    for j in range(len(df2)):\n",
    "        \n",
    "        print(i, j)\n",
    "        curr_ts_ss = TS_SS(df['feature_vec'][i], df2['feature_vec'][j])\n",
    "        \n",
    "        if df['min_ts_ss'][i] > curr_ts_ss:\n",
    "            \n",
    "            df['min_ts_ss'][i] = curr_ts_ss\n",
    "            df['nearest_matching_polygon_ts_ss'][i] = j"
   ]
  },
  {
   "cell_type": "markdown",
   "metadata": {},
   "source": [
    "## Individual Rock Matching based on feature_vec with Euclidean Distance"
   ]
  },
  {
   "cell_type": "code",
   "execution_count": 82,
   "metadata": {},
   "outputs": [],
   "source": [
    "df['nearest_matching_polygon_Euclidean'] = None\n",
    "df['min_Euclidean'] = 1000000000.0\n",
    "\n",
    "for i in range(len(df)):\n",
    "    \n",
    "    for j in range(len(df2)):\n",
    "        \n",
    "        curr_dist = Euclidean(df['feature_vec'][i], df2['feature_vec'][j])\n",
    "        \n",
    "        if df['min_Euclidean'][i] > curr_dist:\n",
    "            \n",
    "            df['min_Euclidean'][i] = curr_dist\n",
    "            df['nearest_matching_polygon_Euclidean'][i] = j"
   ]
  },
  {
   "cell_type": "code",
   "execution_count": 83,
   "metadata": {},
   "outputs": [
    {
     "data": {
      "text/plain": [
       "<AxesSubplot:ylabel='Frequency'>"
      ]
     },
     "execution_count": 83,
     "metadata": {},
     "output_type": "execute_result"
    },
    {
     "data": {
      "image/png": "[encoded data removed]",
      "text/plain": [
       "<Figure size 432x288 with 1 Axes>"
      ]
     },
     "metadata": {
      "needs_background": "light"
     },
     "output_type": "display_data"
    }
   ],
   "source": [
    "df['nearest_matching_polygon_Euclidean'].plot(kind='hist')"
   ]
  },
  {
   "cell_type": "code",
   "execution_count": 89,
   "metadata": {},
   "outputs": [
    {
     "name": "stdout",
     "output_type": "stream",
     "text": [
      "Breaking Point 7301 428\n"
     ]
    }
   ],
   "source": [
    "inc_count = 0\n",
    "\n",
    "for i in range(len(df)):\n",
    "    \n",
    "    if i != df['nearest_matching_polygon_Euclidean'][i]:\n",
    "        print(\"Breaking Point\", i, df['nearest_matching_polygon_Euclidean'][i]) \n",
    "        inc_count += 1 "
   ]
  },
  {
   "cell_type": "code",
   "execution_count": 95,
   "metadata": {},
   "outputs": [
    {
     "data": {
      "text/plain": [
       "[0.004875461515731334,\n",
       " 8.762367172752796e-05,\n",
       " 0.2705336368520475,\n",
       " 0.8371110118799624,\n",
       " 1.0,\n",
       " 1.0,\n",
       " 0.0]"
      ]
     },
     "execution_count": 95,
     "metadata": {},
     "output_type": "execute_result"
    }
   ],
   "source": [
    "df['feature_vec'][7301]"
   ]
  },
  {
   "cell_type": "code",
   "execution_count": 98,
   "metadata": {},
   "outputs": [
    {
     "data": {
      "text/plain": [
       "428"
      ]
     },
     "execution_count": 98,
     "metadata": {},
     "output_type": "execute_result"
    }
   ],
   "source": [
    "df['nearest_matching_polygon_Euclidean'][7301]"
   ]
  },
  {
   "cell_type": "markdown",
   "metadata": {},
   "source": [
    "## Experiment with Nearest Neighbor Polygons"
   ]
  },
  {
   "cell_type": "code",
   "execution_count": 91,
   "metadata": {},
   "outputs": [],
   "source": [
    "df = df.set_geometry('geometry')\n",
    "df2 = df2.set_geometry('geometry')"
   ]
  },
  {
   "cell_type": "code",
   "execution_count": 92,
   "metadata": {},
   "outputs": [],
   "source": [
    "from shapely import geometry\n",
    "\n",
    "def get_neighborhood_polygon(df, top=5):\n",
    "    \n",
    "    df['neighbor_polygon'] = None\n",
    "    x = df.geometry.apply(lambda g: df.distance(g))\n",
    "    \n",
    "    for i in range(len(df)):\n",
    "        y = x[i].sort_values()[:top]\n",
    "        df['neighbor_polygon'][i] = geometry.Polygon([[df['centroid'][j].x, df['centroid'][j].y] for j in y.index])\n",
    "    \n",
    "    return df"
   ]
  },
  {
   "cell_type": "code",
   "execution_count": 93,
   "metadata": {},
   "outputs": [],
   "source": [
    "df = get_neighborhood_polygon(df, 5)"
   ]
  },
  {
   "cell_type": "code",
   "execution_count": 94,
   "metadata": {},
   "outputs": [],
   "source": [
    "df2 = get_neighborhood_polygon(df2, 5)"
   ]
  },
  {
   "cell_type": "code",
   "execution_count": 99,
   "metadata": {},
   "outputs": [],
   "source": [
    "# neighborhood_\n",
    "\n",
    "def get_neighbor_polygon_features(df):\n",
    "    df = df.set_geometry('neighbor_polygon')\n",
    "\n",
    "    df[\"neighbor_polygon_area\"] = df.area\n",
    "    df[\"neighbor_polygon_centroid\"] = df.centroid \n",
    "\n",
    "    df['neighbor_polygon_ecc'] = None\n",
    "\n",
    "    for j in range(len(df)):\n",
    "        try:\n",
    "            area_polygon = [[i[1],i[0]] for i in list(df['neighbor_polygon'][j].exterior.coords)]\n",
    "        except:\n",
    "            area_polygon = [[i[1],i[0]]  for poly in list(df['neighbor_polygon'][j]) for i in list(poly.exterior.coords) ]\n",
    "        df['neighbor_polygon_ecc'][j] = get_ecc(area_polygon)\n",
    "\n",
    "    df[\"neighbor_polygon_perimeter\"] = df[\"neighbor_polygon\"].length\n",
    "    df[\"neighbor_polygon_compactness\"] = df.geometry.apply(pp_compactness)\n",
    "    df[\"neighbor_polygon_convexity\"] = df.geometry.apply(convexity)\n",
    "    df[\"neighbor_polygon_solidity\"] = df.geometry.apply(solidity)\n",
    "    df[\"neighbor_polygon_angle\"] = df.geometry.apply(getAngle)\n",
    "    return df "
   ]
  },
  {
   "cell_type": "code",
   "execution_count": 100,
   "metadata": {},
   "outputs": [],
   "source": [
    "df = get_neighbor_polygon_features(df)\n",
    "df2 = get_neighbor_polygon_features(df2)"
   ]
  },
  {
   "cell_type": "code",
   "execution_count": 101,
   "metadata": {},
   "outputs": [],
   "source": [
    "df['neighbor_polygon_feature_vec'] = None\n",
    "\n",
    "for i in range(len(df)):\n",
    "    df['neighbor_polygon_feature_vec'][i] = [df[\"neighbor_polygon_area\"][i], df['neighbor_polygon_ecc'][i], df['neighbor_polygon_perimeter'][i], df['neighbor_polygon_compactness'][i], df['neighbor_polygon_convexity'][i], df['neighbor_polygon_solidity'][i], df[\"neighbor_polygon_angle\"][i]]"
   ]
  },
  {
   "cell_type": "code",
   "execution_count": 102,
   "metadata": {},
   "outputs": [],
   "source": [
    "df2['neighbor_polygon_feature_vec'] = None\n",
    "\n",
    "for i in range(len(df2)):\n",
    "    df2['neighbor_polygon_feature_vec'][i] = [df2[\"neighbor_polygon_area\"][i], df2['neighbor_polygon_ecc'][i], df2['neighbor_polygon_perimeter'][i], df2['neighbor_polygon_compactness'][i], df2['neighbor_polygon_convexity'][i], df2['neighbor_polygon_solidity'][i], df2[\"neighbor_polygon_angle\"][i]]"
   ]
  },
  {
   "cell_type": "code",
   "execution_count": 160,
   "metadata": {},
   "outputs": [],
   "source": [
    "df['nearest_matching_neighbor_polygon'] = None\n",
    "df['neighbor_polygon_min_ts_ss'] = 1000000000.0\n",
    "\n",
    "for i in range(len(df)):\n",
    "    \n",
    "    for j in range(len(df2)):\n",
    "        \n",
    "        curr_ts_ss = TS_SS(df['neighbor_polygon_feature_vec'][i], df2['neighbor_polygon_feature_vec'][j])\n",
    "        \n",
    "        if df['neighbor_polygon_min_ts_ss'][i] > curr_ts_ss:\n",
    "            \n",
    "            df['neighbor_polygon_min_ts_ss'][i] = curr_ts_ss\n",
    "            df['nearest_matching_neighbor_polygon'][i] = j"
   ]
  },
  {
   "cell_type": "code",
   "execution_count": 103,
   "metadata": {},
   "outputs": [],
   "source": [
    "df['nearest_matching_neighbor_polygon_eucledian'] = None\n",
    "df['neighbor_polygon_min_eucledian'] = 1000000000.0\n",
    "\n",
    "for i in range(len(df)):\n",
    "    \n",
    "    for j in range(len(df2)):\n",
    "        \n",
    "        curr_dist = Euclidean(df['neighbor_polygon_feature_vec'][i], df2['neighbor_polygon_feature_vec'][j])\n",
    "        \n",
    "        if df['neighbor_polygon_min_eucledian'][i] > curr_dist:\n",
    "            \n",
    "            df['neighbor_polygon_min_eucledian'][i] = curr_dist\n",
    "            df['nearest_matching_neighbor_polygon_eucledian'][i] = j"
   ]
  },
  {
   "cell_type": "code",
   "execution_count": 104,
   "metadata": {},
   "outputs": [
    {
     "name": "stdout",
     "output_type": "stream",
     "text": [
      "Breaking Point 9 8\n",
      "Breaking Point 62 60\n",
      "Breaking Point 65 56\n",
      "Breaking Point 175 50\n",
      "Breaking Point 260 210\n",
      "Breaking Point 274 272\n",
      "Breaking Point 284 281\n",
      "Breaking Point 301 299\n",
      "Breaking Point 612 610\n",
      "Breaking Point 794 649\n",
      "Breaking Point 938 451\n",
      "Breaking Point 967 966\n",
      "Breaking Point 1079 1077\n",
      "Breaking Point 1472 1470\n",
      "Breaking Point 1492 949\n",
      "Breaking Point 1493 954\n",
      "Breaking Point 1562 1560\n",
      "Breaking Point 1602 1537\n",
      "Breaking Point 1686 1684\n",
      "Breaking Point 1698 1674\n",
      "Breaking Point 2119 2062\n",
      "Breaking Point 2205 2144\n",
      "Breaking Point 2267 2266\n",
      "Breaking Point 2334 2332\n",
      "Breaking Point 2604 2603\n",
      "Breaking Point 2621 2620\n",
      "Breaking Point 2671 2663\n",
      "Breaking Point 2708 2069\n",
      "Breaking Point 2813 2810\n",
      "Breaking Point 2830 2165\n",
      "Breaking Point 2863 2228\n",
      "Breaking Point 2920 2908\n",
      "Breaking Point 2925 2899\n",
      "Breaking Point 2980 2341\n",
      "Breaking Point 3031 3030\n",
      "Breaking Point 3325 2793\n",
      "Breaking Point 3538 3537\n",
      "Breaking Point 3567 3523\n",
      "Breaking Point 3641 3136\n",
      "Breaking Point 3693 3220\n",
      "Breaking Point 3703 3701\n",
      "Breaking Point 3704 3249\n",
      "Breaking Point 3774 3771\n",
      "Breaking Point 3781 3780\n",
      "Breaking Point 3811 3271\n",
      "Breaking Point 3868 3864\n",
      "Breaking Point 3890 3812\n",
      "Breaking Point 3891 3848\n",
      "Breaking Point 3929 3926\n",
      "Breaking Point 4030 3485\n",
      "Breaking Point 4104 3611\n",
      "Breaking Point 4139 4102\n",
      "Breaking Point 4140 3691\n",
      "Breaking Point 4274 4273\n",
      "Breaking Point 4452 3936\n",
      "Breaking Point 4648 4074\n",
      "Breaking Point 4673 4672\n",
      "Breaking Point 4896 4830\n",
      "Breaking Point 4956 4902\n",
      "Breaking Point 5002 4436\n",
      "Breaking Point 5015 5014\n",
      "Breaking Point 5082 4916\n",
      "Breaking Point 5103 4506\n",
      "Breaking Point 5172 5171\n",
      "Breaking Point 5184 5183\n",
      "Breaking Point 5396 5394\n",
      "Breaking Point 5440 5438\n",
      "Breaking Point 5502 5451\n",
      "Breaking Point 5519 5517\n",
      "Breaking Point 5619 5100\n",
      "Breaking Point 5675 5628\n",
      "Breaking Point 5683 5161\n",
      "Breaking Point 5693 5690\n",
      "Breaking Point 5716 5682\n",
      "Breaking Point 5877 5873\n",
      "Breaking Point 5887 5370\n",
      "Breaking Point 6306 5677\n",
      "Breaking Point 6315 5733\n",
      "Breaking Point 6324 5740\n",
      "Breaking Point 6336 6283\n",
      "Breaking Point 6455 6454\n",
      "Breaking Point 6496 6437\n",
      "Breaking Point 6613 6612\n",
      "Breaking Point 6646 6642\n",
      "Breaking Point 6664 6662\n",
      "Breaking Point 6812 6807\n",
      "Breaking Point 6825 6824\n",
      "Breaking Point 6869 6867\n",
      "Breaking Point 6875 6873\n",
      "Breaking Point 6975 6403\n",
      "Breaking Point 7024 7021\n",
      "Breaking Point 7166 6799\n",
      "Breaking Point 7168 7167\n",
      "Breaking Point 7175 7173\n",
      "Breaking Point 7205 6942\n",
      "Breaking Point 7288 7286\n",
      "Breaking Point 7324 7320\n"
     ]
    }
   ],
   "source": [
    "inc_count = 0\n",
    "\n",
    "for i in range(len(df)):\n",
    "    \n",
    "    if i != df['nearest_matching_neighbor_polygon_eucledian'][i]:\n",
    "        print(\"Breaking Point\", i, df['nearest_matching_neighbor_polygon_eucledian'][i]) \n",
    "        inc_count += 1"
   ]
  },
  {
   "cell_type": "code",
   "execution_count": 105,
   "metadata": {},
   "outputs": [
    {
     "data": {
      "text/plain": [
       "97"
      ]
     },
     "execution_count": 105,
     "metadata": {},
     "output_type": "execute_result"
    }
   ],
   "source": [
    "inc_count "
   ]
  },
  {
   "cell_type": "code",
   "execution_count": 161,
   "metadata": {},
   "outputs": [],
   "source": [
    "def get_centroid_and_line_neighbor_polygon(name, df):\n",
    "    \n",
    "    df['matching_centroid_'+name] = None\n",
    "    \n",
    "    for i in range(len(df)):\n",
    "        df['matching_centroid_'+name][i] = df2[name+'_centroid'][df['nearest_matching_'+name][i]]\n",
    "    \n",
    "    df['line_'+name] = df.apply(lambda x: LineString([x[name+'_centroid'], x['matching_centroid_'+name]]), axis=1)\n",
    "    \n",
    "    return df "
   ]
  },
  {
   "cell_type": "code",
   "execution_count": 162,
   "metadata": {},
   "outputs": [],
   "source": [
    "df = get_centroid_and_line_neighbor_polygon('neighbor_polygon', df)"
   ]
  },
  {
   "cell_type": "code",
   "execution_count": 163,
   "metadata": {},
   "outputs": [],
   "source": [
    "df_sorted = df.sort_values('neighbor_polygon_min_ts_ss')\n",
    "df_sorted.reset_index(drop=True, inplace=True)"
   ]
  },
  {
   "cell_type": "code",
   "execution_count": null,
   "metadata": {},
   "outputs": [],
   "source": [
    "df = df.set_geometry('geometry')\n",
    "df2 = df2.set_geometry('geometry')\n",
    "\n",
    "fig, ax = plt.subplots(figsize = (10,10))\n",
    "fig.patch.set_facecolor('white')\n",
    "\n",
    "\n",
    "df2.plot(color = 'g', ax=ax, figsize=(10,10))\n",
    "df.plot(color = 'r', ax=ax , figsize=(10,10))\n",
    "n = 10\n",
    "for i in range(1, 2):\n",
    "        #i = 10\n",
    "        xy = [y for y in df_sorted['line_neighbor_polygon'][i].coords]\n",
    "        #xy = (x[i],y[i])\n",
    "        con = ConnectionPatch(xyA=xy[1], xyB=xy[0], coordsA=\"data\", coordsB=\"data\",\n",
    "                              axesA=ax, axesB=ax, color=\"blue\")\n",
    "        ax.add_artist(con)\n",
    "        ms = n-i\n",
    "#         ms = 5\n",
    "        ax.plot(xy[1][0],xy[1][1],'ro',markersize=ms,color='g')\n",
    "        ax.plot(xy[0][0],xy[0][1],'ro',markersize=ms, color='r')\n",
    "\n",
    "fig.show()"
   ]
  },
  {
   "cell_type": "code",
   "execution_count": 169,
   "metadata": {},
   "outputs": [
    {
     "data": {
      "text/plain": [
       "Index(['mvt_id', 'DN', 'geometry', 'area', 'centroid', 'ecc', 'perimeter',\n",
       "       'compactness', 'convexity', 'solidity', 'feature_vec',\n",
       "       'nearest_matching_polygon', 'min_ts_ss', 'matching_centroid', 'line',\n",
       "       'nearest_matching_polygon_Euclidean', 'min_Euclidean',\n",
       "       'matching_centroid_Euclidean', 'line_Euclidean', 'neighbor_polygon',\n",
       "       'neighbor_polygon_area', 'neighbor_polygon_centroid',\n",
       "       'neighbor_polygon_ecc', 'neighbor_polygon_perimeter',\n",
       "       'neighbor_polygon_compactness', 'neighbor_polygon_convexity',\n",
       "       'neighbor_polygon_solidity', 'neighbor_polygon_feature_vec',\n",
       "       'nearest_matching_neighbor_polygon', 'neighbor_polygon_min_ts_ss',\n",
       "       'matching_centroid_neighbor_polygon', 'line_neighbor_polygon', 'angle',\n",
       "       'neighbor_polygon_angle'],\n",
       "      dtype='object')"
      ]
     },
     "execution_count": 169,
     "metadata": {},
     "output_type": "execute_result"
    }
   ],
   "source": [
    "df.columns"
   ]
  },
  {
   "cell_type": "markdown",
   "metadata": {},
   "source": [
    "## Visualization"
   ]
  },
  {
   "cell_type": "code",
   "execution_count": 146,
   "metadata": {},
   "outputs": [],
   "source": [
    "def get_centroid_and_line(name, df):\n",
    "    \n",
    "    df['matching_centroid'] = None\n",
    "    \n",
    "    for i in range(len(df)):\n",
    "        df['matching_centroid'][i] = df2['centroid'][df['nearest_matching_polygon'][i]]\n",
    "    \n",
    "    df['line'] = df.apply(lambda x: LineString([x['centroid'], x['matching_centroid']]), axis=1)\n",
    "    \n",
    "    return df "
   ]
  },
  {
   "cell_type": "code",
   "execution_count": 147,
   "metadata": {},
   "outputs": [],
   "source": [
    "df = get_centroid_and_line('', df)"
   ]
  },
  {
   "cell_type": "code",
   "execution_count": 148,
   "metadata": {},
   "outputs": [],
   "source": [
    "df_sorted = df.sort_values('min_ts_ss')\n",
    "df_sorted.reset_index(drop=True, inplace=True)"
   ]
  },
  {
   "cell_type": "code",
   "execution_count": null,
   "metadata": {},
   "outputs": [],
   "source": [
    "fig, ax = plt.subplots(figsize = (10,10))\n",
    "fig.patch.set_facecolor('white')\n",
    "\n",
    "\n",
    "df2.plot(color = 'g', ax=ax, figsize=(10,10))\n",
    "df.plot(color = 'r', ax=ax , figsize=(10,10))\n",
    "\n",
    "for i in range(0, 10):\n",
    "        #i = 10\n",
    "        xy = [y for y in df_sorted['line'][i].coords]\n",
    "        #xy = (x[i],y[i])\n",
    "        con = ConnectionPatch(xyA=xy[1], xyB=xy[0], coordsA=\"data\", coordsB=\"data\",\n",
    "                              axesA=ax, axesB=ax, color=\"blue\")\n",
    "        ax.add_artist(con)\n",
    "\n",
    "        ax.plot(xy[1][0],xy[1][1],'ro',markersize=10-i,color='g')\n",
    "        ax.plot(xy[0][0],xy[0][1],'ro',markersize=10-i, color='r')\n",
    "\n",
    "fig.show()"
   ]
  }
 ],
 "metadata": {
  "colab": {
   "authorship_tag": "ABX9TyOeYKAzcQqeq6FIgLSdtaPf",
   "collapsed_sections": [
    "n_QtgWLEtwM2",
    "5dc1ncTIt0AS",
    "RcJPQqPZT3na"
   ],
   "mount_file_id": "1BL0HmNwDCnnVLLXQU6V6XdD2AeKiXt8A",
   "name": "Rock_Matching.ipynb",
   "provenance": []
  },
  "kernelspec": {
   "display_name": "Python 3 (ipykernel)",
   "language": "python",
   "name": "python3"
  },
  "language_info": {
   "codemirror_mode": {
    "name": "ipython",
    "version": 3
   },
   "file_extension": ".py",
   "mimetype": "text/x-python",
   "name": "python",
   "nbconvert_exporter": "python",
   "pygments_lexer": "ipython3",
   "version": "3.7.13"
  }
 },
 "nbformat": 4,
 "nbformat_minor": 1
}
