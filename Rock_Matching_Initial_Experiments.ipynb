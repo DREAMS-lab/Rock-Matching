{
 "cells": [
  {
   "cell_type": "code",
   "execution_count": null,
   "metadata": {
    "id": "J209jyi-hPve",
    "scrolled": true
   },
   "outputs": [],
   "source": [
    "#pip install geopandas"
   ]
  },
  {
   "cell_type": "code",
   "execution_count": null,
   "metadata": {
    "id": "TBj7MxwRqgUX",
    "scrolled": true
   },
   "outputs": [],
   "source": [
    "#pip install folium matplotlib mapclassify"
   ]
  },
  {
   "cell_type": "code",
   "execution_count": 88,
   "metadata": {},
   "outputs": [],
   "source": [
    "import warnings\n",
    "warnings.filterwarnings('ignore')"
   ]
  },
  {
   "cell_type": "code",
   "execution_count": 38,
   "metadata": {
    "id": "a7dyLY0gmaQ-"
   },
   "outputs": [],
   "source": [
    "import geopandas as gpd \n",
    "import matplotlib.pyplot as plt\n",
    "import numpy as np\n",
    "from math import pi, sqrt\n",
    "from matplotlib.patches import ConnectionPatch"
   ]
  },
  {
   "cell_type": "code",
   "execution_count": 2,
   "metadata": {
    "id": "e3TbxEgxmYpt"
   },
   "outputs": [],
   "source": [
    "df = gpd.read_file(\"BF_10_03_2020.zip\")"
   ]
  },
  {
   "cell_type": "code",
   "execution_count": 3,
   "metadata": {
    "id": "CmDKOGRxthYf"
   },
   "outputs": [],
   "source": [
    "df2 = gpd.read_file(\"BF_08_02_2020.zip\")"
   ]
  },
  {
   "cell_type": "code",
   "execution_count": 4,
   "metadata": {
    "colab": {
     "base_uri": "https://localhost:8080/"
    },
    "executionInfo": {
     "elapsed": 252,
     "status": "ok",
     "timestamp": 1655149325721,
     "user": {
      "displayName": "Krutarth Bhatt",
      "userId": "12834935479488028010"
     },
     "user_tz": 420
    },
    "id": "VLzV5WDej0r8",
    "outputId": "5619f7b4-22e5-4244-9476-0f6bab9ff981",
    "scrolled": true
   },
   "outputs": [
    {
     "data": {
      "text/html": [
       "<div>\n",
       "<style scoped>\n",
       "    .dataframe tbody tr th:only-of-type {\n",
       "        vertical-align: middle;\n",
       "    }\n",
       "\n",
       "    .dataframe tbody tr th {\n",
       "        vertical-align: top;\n",
       "    }\n",
       "\n",
       "    .dataframe thead th {\n",
       "        text-align: right;\n",
       "    }\n",
       "</style>\n",
       "<table border=\"1\" class=\"dataframe\">\n",
       "  <thead>\n",
       "    <tr style=\"text-align: right;\">\n",
       "      <th></th>\n",
       "      <th>mvt_id</th>\n",
       "      <th>DN</th>\n",
       "      <th>geometry</th>\n",
       "    </tr>\n",
       "  </thead>\n",
       "  <tbody>\n",
       "    <tr>\n",
       "      <th>0</th>\n",
       "      <td>None</td>\n",
       "      <td>4.0</td>\n",
       "      <td>POLYGON ((-12386072.825 3999537.731, -12386072...</td>\n",
       "    </tr>\n",
       "    <tr>\n",
       "      <th>1</th>\n",
       "      <td>None</td>\n",
       "      <td>4.0</td>\n",
       "      <td>POLYGON ((-12386070.156 3999538.766, -12386070...</td>\n",
       "    </tr>\n",
       "    <tr>\n",
       "      <th>2</th>\n",
       "      <td>None</td>\n",
       "      <td>4.0</td>\n",
       "      <td>POLYGON ((-12386067.954 3999531.946, -12386067...</td>\n",
       "    </tr>\n",
       "    <tr>\n",
       "      <th>3</th>\n",
       "      <td>None</td>\n",
       "      <td>4.0</td>\n",
       "      <td>POLYGON ((-12386071.341 3999548.349, -12386071...</td>\n",
       "    </tr>\n",
       "    <tr>\n",
       "      <th>4</th>\n",
       "      <td>None</td>\n",
       "      <td>4.0</td>\n",
       "      <td>POLYGON ((-12386070.595 3999548.302, -12386070...</td>\n",
       "    </tr>\n",
       "  </tbody>\n",
       "</table>\n",
       "</div>"
      ],
      "text/plain": [
       "  mvt_id   DN                                           geometry\n",
       "0   None  4.0  POLYGON ((-12386072.825 3999537.731, -12386072...\n",
       "1   None  4.0  POLYGON ((-12386070.156 3999538.766, -12386070...\n",
       "2   None  4.0  POLYGON ((-12386067.954 3999531.946, -12386067...\n",
       "3   None  4.0  POLYGON ((-12386071.341 3999548.349, -12386071...\n",
       "4   None  4.0  POLYGON ((-12386070.595 3999548.302, -12386070..."
      ]
     },
     "execution_count": 4,
     "metadata": {},
     "output_type": "execute_result"
    }
   ],
   "source": [
    "df2.head()"
   ]
  },
  {
   "cell_type": "markdown",
   "metadata": {
    "id": "n_QtgWLEtwM2"
   },
   "source": [
    "# For df1 (Oct 2020) "
   ]
  },
  {
   "cell_type": "code",
   "execution_count": 5,
   "metadata": {
    "id": "hn15OU0Gnzg2"
   },
   "outputs": [],
   "source": [
    "df[\"area\"] = df.area"
   ]
  },
  {
   "cell_type": "code",
   "execution_count": 6,
   "metadata": {
    "colab": {
     "base_uri": "https://localhost:8080/"
    },
    "executionInfo": {
     "elapsed": 498,
     "status": "ok",
     "timestamp": 1655149330008,
     "user": {
      "displayName": "Krutarth Bhatt",
      "userId": "12834935479488028010"
     },
     "user_tz": 420
    },
    "id": "krArQoe_rOO2",
    "outputId": "f082ecb2-d842-401f-ba1c-69a67824a4e1"
   },
   "outputs": [
    {
     "data": {
      "text/plain": [
       "0       POINT (-12386059.874 3999557.488)\n",
       "1       POINT (-12386059.123 3999554.551)\n",
       "2       POINT (-12386059.490 3999554.273)\n",
       "3       POINT (-12386058.413 3999557.855)\n",
       "4       POINT (-12386057.928 3999557.859)\n",
       "                      ...                \n",
       "7360    POINT (-12385927.687 3999598.412)\n",
       "7361    POINT (-12385920.748 3999494.777)\n",
       "7362    POINT (-12385922.418 3999593.478)\n",
       "7363    POINT (-12385922.833 3999591.188)\n",
       "7364    POINT (-12385921.579 3999589.459)\n",
       "Name: centroid, Length: 7365, dtype: geometry"
      ]
     },
     "execution_count": 6,
     "metadata": {},
     "output_type": "execute_result"
    }
   ],
   "source": [
    "df['centroid'] = df.centroid\n",
    "df['centroid']"
   ]
  },
  {
   "cell_type": "code",
   "execution_count": null,
   "metadata": {
    "colab": {
     "base_uri": "https://localhost:8080/",
     "height": 501
    },
    "executionInfo": {
     "elapsed": 645,
     "status": "ok",
     "timestamp": 1655149330651,
     "user": {
      "displayName": "Krutarth Bhatt",
      "userId": "12834935479488028010"
     },
     "user_tz": 420
    },
    "id": "OARUH7DvolFJ",
    "outputId": "e602da0a-bad9-4d03-83a1-b835dc127083"
   },
   "outputs": [],
   "source": [
    "plt.figure(figsize=(16, 8))\n",
    "df[\"area\"].plot(kind='hist', bins = 100)"
   ]
  },
  {
   "cell_type": "code",
   "execution_count": null,
   "metadata": {
    "colab": {
     "base_uri": "https://localhost:8080/",
     "height": 919
    },
    "executionInfo": {
     "elapsed": 2330,
     "status": "ok",
     "timestamp": 1655149332975,
     "user": {
      "displayName": "Krutarth Bhatt",
      "userId": "12834935479488028010"
     },
     "user_tz": 420
    },
    "id": "KW1FZvJWorza",
    "outputId": "0d0e32a8-01c5-4910-82d8-6dc89797e6f7"
   },
   "outputs": [],
   "source": [
    "# plt.figure(figsize=(16, 16))\n",
    "df.plot(\"area\", legend=True, figsize=(16, 16))"
   ]
  },
  {
   "cell_type": "code",
   "execution_count": null,
   "metadata": {
    "colab": {
     "base_uri": "https://localhost:8080/",
     "height": 919
    },
    "executionInfo": {
     "elapsed": 1720,
     "status": "ok",
     "timestamp": 1655149334688,
     "user": {
      "displayName": "Krutarth Bhatt",
      "userId": "12834935479488028010"
     },
     "user_tz": 420
    },
    "id": "yCVZtf3sqXZH",
    "outputId": "db7e129a-96ff-4f0e-ef22-2997984b1019",
    "scrolled": true
   },
   "outputs": [],
   "source": [
    "# plt.figure(figsize=(16, 16))\n",
    "df = df.set_geometry(\"centroid\")\n",
    "df.plot(\"area\", legend=True, figsize=(16, 16))"
   ]
  },
  {
   "cell_type": "code",
   "execution_count": 8,
   "metadata": {
    "id": "KJUL7k3srUHJ"
   },
   "outputs": [],
   "source": [
    "df = df.set_geometry(\"geometry\")"
   ]
  },
  {
   "cell_type": "markdown",
   "metadata": {
    "id": "5dc1ncTIt0AS"
   },
   "source": [
    "# For df2 (Aug 2020)"
   ]
  },
  {
   "cell_type": "code",
   "execution_count": 7,
   "metadata": {
    "id": "sdUNU06zr2cZ"
   },
   "outputs": [],
   "source": [
    "df2[\"area\"] = df2.area"
   ]
  },
  {
   "cell_type": "code",
   "execution_count": 8,
   "metadata": {
    "colab": {
     "base_uri": "https://localhost:8080/"
    },
    "executionInfo": {
     "elapsed": 3,
     "status": "ok",
     "timestamp": 1655149342046,
     "user": {
      "displayName": "Krutarth Bhatt",
      "userId": "12834935479488028010"
     },
     "user_tz": 420
    },
    "id": "1FrpOJ3Ht5wh",
    "outputId": "f344b471-dea4-4bd2-c3aa-d61a9907277c"
   },
   "outputs": [
    {
     "data": {
      "text/plain": [
       "0       POINT (-12386072.636 3999537.542)\n",
       "1       POINT (-12386070.184 3999538.509)\n",
       "2       POINT (-12386068.133 3999531.497)\n",
       "3       POINT (-12386071.411 3999548.372)\n",
       "4       POINT (-12386070.759 3999548.336)\n",
       "                      ...                \n",
       "3666    POINT (-12385914.798 3999616.488)\n",
       "3667    POINT (-12385914.654 3999615.601)\n",
       "3668    POINT (-12385912.517 3999528.752)\n",
       "3669    POINT (-12385912.519 3999539.630)\n",
       "3670    POINT (-12385913.220 3999609.211)\n",
       "Name: centroid, Length: 3671, dtype: geometry"
      ]
     },
     "execution_count": 8,
     "metadata": {},
     "output_type": "execute_result"
    }
   ],
   "source": [
    "df2['centroid'] = df2.centroid\n",
    "df2['centroid']"
   ]
  },
  {
   "cell_type": "code",
   "execution_count": null,
   "metadata": {
    "colab": {
     "base_uri": "https://localhost:8080/",
     "height": 501
    },
    "executionInfo": {
     "elapsed": 374,
     "status": "ok",
     "timestamp": 1655149342612,
     "user": {
      "displayName": "Krutarth Bhatt",
      "userId": "12834935479488028010"
     },
     "user_tz": 420
    },
    "id": "DqeyDVaUt7km",
    "outputId": "ed97449d-1a31-4e1a-82c9-dca0cf3a477c"
   },
   "outputs": [],
   "source": [
    "plt.figure(figsize=(16, 8))\n",
    "df2[\"area\"].plot(kind='hist', bins = 100)"
   ]
  },
  {
   "cell_type": "code",
   "execution_count": null,
   "metadata": {
    "colab": {
     "base_uri": "https://localhost:8080/",
     "height": 919
    },
    "executionInfo": {
     "elapsed": 1682,
     "status": "ok",
     "timestamp": 1655149344580,
     "user": {
      "displayName": "Krutarth Bhatt",
      "userId": "12834935479488028010"
     },
     "user_tz": 420
    },
    "id": "w0WmMLhfuBgU",
    "outputId": "478655c6-2b28-405d-d0f5-434304ca4d7a"
   },
   "outputs": [],
   "source": [
    "df2.plot(\"area\", legend=True, figsize=(16, 16))"
   ]
  },
  {
   "cell_type": "markdown",
   "metadata": {},
   "source": [
    "## Calculating Ecc"
   ]
  },
  {
   "cell_type": "code",
   "execution_count": 9,
   "metadata": {},
   "outputs": [],
   "source": [
    "## Get Eccentricity \n",
    "\n",
    "import numpy as np\n",
    "from scipy.spatial.distance import euclidean\n",
    "\n",
    "def get_ecc(area_polygon):\n",
    "    points = np.array(area_polygon)\n",
    "\n",
    "    small_latwise = np.min(points[points[:, 0] == np.min(points[:, 0])], 0)\n",
    "    small_lonwise = np.min(points[points[:, 1] == np.min(points[:, 1])], 0)\n",
    "    big_latwise = np.max(points[points[:, 0] == np.max(points[:, 0])], 0)\n",
    "    big_lonwise = np.max(points[points[:, 1] == np.max(points[:, 1])], 0)\n",
    "    distance_lat = euclidean(big_latwise, small_latwise)\n",
    "    distance_lon = euclidean(big_lonwise, small_lonwise)\n",
    "    if distance_lat >= distance_lon:\n",
    "        major_axis_length = distance_lat\n",
    "        minor_axis_length = distance_lon\n",
    "    else:\n",
    "        major_axis_length = distance_lon\n",
    "        minor_axis_length = distance_lat\n",
    "    a = major_axis_length/2\n",
    "    b = minor_axis_length/2\n",
    "    ecc = np.sqrt(np.square(a)-np.square(b))/a\n",
    "    return ecc"
   ]
  },
  {
   "cell_type": "code",
   "execution_count": null,
   "metadata": {},
   "outputs": [],
   "source": [
    "df['ecc'] = None\n",
    "\n",
    "for j in range(len(df)):\n",
    "    try:\n",
    "        area_polygon = [[i[1],i[0]] for i in list(df['geometry'][j].exterior.coords)]\n",
    "    except:\n",
    "        area_polygon = [[i[1],i[0]]  for poly in list(df['geometry'][j]) for i in list(poly.exterior.coords) ]\n",
    "    df['ecc'][j] = get_ecc(area_polygon)"
   ]
  },
  {
   "cell_type": "code",
   "execution_count": null,
   "metadata": {},
   "outputs": [],
   "source": [
    "df2['ecc'] = None\n",
    "\n",
    "for j in range(len(df2)):\n",
    "    #print(j)\n",
    "    try:\n",
    "        area_polygon = [[i[1],i[0]] for i in list(df2['geometry'][j].exterior.coords)]\n",
    "    except:\n",
    "        area_polygon = [[i[1],i[0]]  for poly in list(df2['geometry'][j]) for i in list(poly.exterior.coords)]\n",
    "            \n",
    "    df2['ecc'][j] = get_ecc(area_polygon)"
   ]
  },
  {
   "cell_type": "markdown",
   "metadata": {},
   "source": [
    "## TS_SS Similarity "
   ]
  },
  {
   "cell_type": "code",
   "execution_count": 142,
   "metadata": {},
   "outputs": [
    {
     "name": "stdout",
     "output_type": "stream",
     "text": [
      "2.23606797749979\n",
      "0.9999999999999998\n",
      "0.0004639582566999478\n"
     ]
    }
   ],
   "source": [
    "import math\n",
    "\n",
    "def Cosine(vec1, vec2) :\n",
    "    result = InnerProduct(vec1,vec2) / (VectorSize(vec1) * VectorSize(vec2))\n",
    "    return result\n",
    "\n",
    "def VectorSize(vec) :\n",
    "    return math.sqrt(sum(math.pow(v,2) for v in vec))\n",
    "\n",
    "def InnerProduct(vec1, vec2) :\n",
    "    return sum(v1*v2 for v1,v2 in zip(vec1,vec2))\n",
    "\n",
    "def Euclidean(vec1, vec2) :\n",
    "    return math.sqrt(sum(math.pow((v1-v2),2) for v1,v2 in zip(vec1, vec2)))\n",
    "\n",
    "def Theta(vec1, vec2) :\n",
    "    return math.acos(Cosine(vec1,vec2)) + math.radians(10)\n",
    "\n",
    "def Triangle(vec1, vec2) :\n",
    "    theta = math.radians(Theta(vec1,vec2))\n",
    "    return (VectorSize(vec1) * VectorSize(vec2) * math.sin(theta)) / 2\n",
    "\n",
    "def Magnitude_Difference(vec1, vec2) :\n",
    "    return abs(VectorSize(vec1) - VectorSize(vec2))\n",
    "\n",
    "def Sector(vec1, vec2) :\n",
    "    ED = Euclidean(vec1, vec2)\n",
    "    MD = Magnitude_Difference(vec1, vec2)\n",
    "    theta = Theta(vec1, vec2)\n",
    "    return math.pi * math.pow((ED+MD),2) * theta/360\n",
    "\n",
    "def TS_SS(vec1, vec2) :\n",
    "    return Triangle(vec1, vec2) * Sector(vec1, vec2)\n",
    "\n",
    "vec1 = [1,2]\n",
    "vec2 = [2,4]\n",
    "\n",
    "print(Euclidean(vec1,vec2))\n",
    "print(Cosine(vec1,vec2))\n",
    "print(TS_SS(vec1,vec2))"
   ]
  },
  {
   "cell_type": "markdown",
   "metadata": {
    "id": "QTkLctdkqddh"
   },
   "source": [
    "# Calculating Distance and Area Distribution of neighbors"
   ]
  },
  {
   "cell_type": "code",
   "execution_count": null,
   "metadata": {},
   "outputs": [],
   "source": [
    "df.columns "
   ]
  },
  {
   "cell_type": "code",
   "execution_count": null,
   "metadata": {},
   "outputs": [],
   "source": [
    "df2.columns "
   ]
  },
  {
   "cell_type": "code",
   "execution_count": null,
   "metadata": {
    "id": "sC7nsgRPpnLQ"
   },
   "outputs": [],
   "source": [
    "def get_dist_and_area_distribution(df, top=10):\n",
    "\n",
    "  x = df.geometry.apply(lambda g: df.distance(g))\n",
    "  df['dist_distribution'] = None\n",
    "  df['area_distribution'] = None \n",
    "  df['neighbour_indexes'] = None\n",
    "  df['ecc_distribution'] = None\n",
    "  for i in range(len(df)):\n",
    "    y = x[i].sort_values()[:top]\n",
    "    df['dist_distribution'][i] = list(y)\n",
    "    df['area_distribution'][i] = [df['area'][j] for j in y.index]\n",
    "    df['ecc_distribution'][i] = [df['ecc'][j] for j in y.index]\n",
    "    df['neighbour_indexes'][i] = y.index \n",
    "\n",
    "  return df"
   ]
  },
  {
   "cell_type": "code",
   "execution_count": null,
   "metadata": {
    "colab": {
     "base_uri": "https://localhost:8080/"
    },
    "executionInfo": {
     "elapsed": 657708,
     "status": "ok",
     "timestamp": 1655159037881,
     "user": {
      "displayName": "Krutarth Bhatt",
      "userId": "12834935479488028010"
     },
     "user_tz": 420
    },
    "id": "FfD2APiXemMK",
    "outputId": "b3c0687d-9aa6-4912-9208-cc22d4a656cd",
    "scrolled": true
   },
   "outputs": [],
   "source": [
    "df = get_dist_and_area_distribution(df, 10)"
   ]
  },
  {
   "cell_type": "code",
   "execution_count": null,
   "metadata": {
    "colab": {
     "base_uri": "https://localhost:8080/"
    },
    "executionInfo": {
     "elapsed": 207474,
     "status": "ok",
     "timestamp": 1655159245302,
     "user": {
      "displayName": "Krutarth Bhatt",
      "userId": "12834935479488028010"
     },
     "user_tz": 420
    },
    "id": "v3Gxq0C2p8tp",
    "outputId": "9e93d5a0-f627-4b3e-a4eb-cc27baeaeabb",
    "scrolled": false
   },
   "outputs": [],
   "source": [
    "df2 = get_dist_and_area_distribution(df2, 10)"
   ]
  },
  {
   "cell_type": "markdown",
   "metadata": {},
   "source": [
    "### Getting Means of neigbors stats "
   ]
  },
  {
   "cell_type": "code",
   "execution_count": null,
   "metadata": {},
   "outputs": [],
   "source": [
    "## Averages of Neighbour Distance, Area and Eccentricity distributions \n",
    "def get_means(df):\n",
    "    df['area_mean'] = None\n",
    "    df['dist_mean'] = None \n",
    "    df['ecc_mean'] = None \n",
    "\n",
    "    for j in range(len(df)):\n",
    "\n",
    "        df['area_mean'][j] = np.array(df['area_distribution'][j]).mean()\n",
    "        df['dist_mean'][j] = np.array(df['dist_distribution'][j]).mean() \n",
    "        df['ecc_mean'][j] = np.array(df['ecc_distribution'][j]).mean() \n",
    "        \n",
    "    return df "
   ]
  },
  {
   "cell_type": "code",
   "execution_count": null,
   "metadata": {
    "scrolled": true
   },
   "outputs": [],
   "source": [
    "df = get_means(df) "
   ]
  },
  {
   "cell_type": "code",
   "execution_count": null,
   "metadata": {
    "scrolled": false
   },
   "outputs": [],
   "source": [
    "df2 = get_means(df2) "
   ]
  },
  {
   "cell_type": "markdown",
   "metadata": {},
   "source": [
    "## Second Order Stats "
   ]
  },
  {
   "cell_type": "code",
   "execution_count": null,
   "metadata": {},
   "outputs": [],
   "source": [
    "def get_2_order_stats(df):\n",
    "    df['neighbor_stats_dist'] = None \n",
    "    df['neighbor_stats_area'] = None \n",
    "    df['neighbor_stats_ecc'] = None \n",
    "\n",
    "    for i in range(len(df)):\n",
    "\n",
    "        df['neighbor_stats_dist'][i] = [np.array(df['dist_distribution'][j]).mean() for j in df['neighbour_indexes'][i]]\n",
    "        df['neighbor_stats_area'][i] = [np.array(df['area_distribution'][j]).mean() for j in df['neighbour_indexes'][i]]\n",
    "        df['neighbor_stats_ecc'][i] = [np.array(df['ecc_distribution'][j]).mean() for j in df['neighbour_indexes'][i]]\n",
    "        \n",
    "    return df "
   ]
  },
  {
   "cell_type": "code",
   "execution_count": null,
   "metadata": {},
   "outputs": [],
   "source": [
    "df = get_2_order_stats(df)\n",
    "df2 = get_2_order_stats(df2)"
   ]
  },
  {
   "cell_type": "code",
   "execution_count": null,
   "metadata": {},
   "outputs": [],
   "source": [
    "df2.columns"
   ]
  },
  {
   "cell_type": "code",
   "execution_count": null,
   "metadata": {},
   "outputs": [],
   "source": [
    "df.columns"
   ]
  },
  {
   "cell_type": "code",
   "execution_count": null,
   "metadata": {
    "colab": {
     "base_uri": "https://localhost:8080/",
     "height": 354
    },
    "executionInfo": {
     "elapsed": 1461,
     "status": "ok",
     "timestamp": 1655160754573,
     "user": {
      "displayName": "Krutarth Bhatt",
      "userId": "12834935479488028010"
     },
     "user_tz": 420
    },
    "id": "JzvNr7M0qDIO",
    "outputId": "f911216f-1a0d-4d88-be71-b78f3d6bbb44"
   },
   "outputs": [],
   "source": [
    "plt.hist(df['neighbor_stats_area'][100])\n",
    "# df2['area_distribution'][0][0]"
   ]
  },
  {
   "cell_type": "code",
   "execution_count": null,
   "metadata": {},
   "outputs": [],
   "source": [
    "plt.hist(df2['neighbor_stats_area'][100])"
   ]
  },
  {
   "cell_type": "markdown",
   "metadata": {},
   "source": [
    "## TS_SS similarity based rock matching "
   ]
  },
  {
   "cell_type": "code",
   "execution_count": null,
   "metadata": {},
   "outputs": [],
   "source": [
    "df2.columns"
   ]
  },
  {
   "cell_type": "code",
   "execution_count": null,
   "metadata": {
    "scrolled": true
   },
   "outputs": [],
   "source": [
    "df['nearest_matching_polygon_wrt_dist_ts_ss'] = None\n",
    "df['nearest_matching_polygon_wrt_area_ts_ss'] = None\n",
    "df['nearest_matching_polygon_wrt_ecc_ts_ss'] = None\n",
    "df['nearest_matching_polygon_overall_ts_ss'] = None\n",
    "\n",
    "df['min_ts_ss_dist'] = 10000000.0\n",
    "df['min_ts_ss_area'] = 10000000.0\n",
    "df['min_ts_ss_ecc'] = 10000000.0\n",
    "df['min_ts_ss_overall'] = 10000000.0\n",
    "\n",
    "\n",
    "for i in range(len(df)):\n",
    "\n",
    "  for j in range(len(df2)):\n",
    "\n",
    "    ts_ss_ij_dist = TS_SS(df['dist_distribution'][i], df2['dist_distribution'][j])\n",
    "    ts_ss_ij_area = TS_SS(df['area_distribution'][i], df2['area_distribution'][j])\n",
    "    ts_ss_ij_ecc = TS_SS(df['ecc_distribution'][i], df2['ecc_distribution'][j])\n",
    "    \n",
    "    ts_ss_ij_overall = ts_ss_ij_dist + ts_ss_ij_area + ts_ss_ij_ecc\n",
    "\n",
    "    if(df['min_ts_ss_dist'][i] > ts_ss_ij_dist):\n",
    "        df['min_ts_ss_dist'][i] = ts_ss_ij_dist\n",
    "        df['nearest_matching_polygon_wrt_dist_ts_ss'][i] = j\n",
    "        \n",
    "    if(df['min_ts_ss_area'][i] > ts_ss_ij_area):\n",
    "        df['min_ts_ss_area'][i] = ts_ss_ij_area\n",
    "        df['nearest_matching_polygon_wrt_area_ts_ss'][i] = j\n",
    "    \n",
    "    if(df['min_ts_ss_ecc'][i] > ts_ss_ij_ecc):\n",
    "        df['min_ts_ss_ecc'][i] = ts_ss_ij_ecc\n",
    "        df['nearest_matching_polygon_wrt_ecc_ts_ss'][i] = j\n",
    "\n",
    "    \n",
    "    if(df['min_ts_ss_overall'][i] > ts_ss_ij_overall):\n",
    "        df['min_ts_ss_overall'][i] = ts_ss_ij_overall\n",
    "        df['nearest_matching_polygon_overall_ts_ss'][i] = j\n",
    "        "
   ]
  },
  {
   "cell_type": "code",
   "execution_count": null,
   "metadata": {},
   "outputs": [],
   "source": [
    "df['nearest_matching_polygon_wrt_dist_ts_ss'].plot(kind='hist')"
   ]
  },
  {
   "cell_type": "code",
   "execution_count": null,
   "metadata": {},
   "outputs": [],
   "source": [
    "df['min_ts_ss_ecc'].plot(kind='hist')"
   ]
  },
  {
   "cell_type": "markdown",
   "metadata": {},
   "source": [
    "## Distribution Based Rock Matching (RMSE)"
   ]
  },
  {
   "cell_type": "code",
   "execution_count": null,
   "metadata": {
    "id": "OLww33oVrKRM"
   },
   "outputs": [],
   "source": [
    "def rmse(a, b):\n",
    "  a = np.array(a)\n",
    "  b = np.array(b)\n",
    "  return np.sqrt(((a - b) ** 2).mean())"
   ]
  },
  {
   "cell_type": "code",
   "execution_count": null,
   "metadata": {
    "colab": {
     "base_uri": "https://localhost:8080/"
    },
    "executionInfo": {
     "elapsed": 667914,
     "status": "ok",
     "timestamp": 1655162878123,
     "user": {
      "displayName": "Krutarth Bhatt",
      "userId": "12834935479488028010"
     },
     "user_tz": 420
    },
    "id": "kapWYTXKr_wS",
    "outputId": "b7439270-e4e6-44e0-de44-ebb42bb70679",
    "scrolled": true
   },
   "outputs": [],
   "source": [
    "df['nearest_matching_polygon_wrt_dist'] = None\n",
    "df['nearest_matching_polygon_wrt_area'] = None\n",
    "df['nearest_matching_polygon_overall'] = None\n",
    "\n",
    "\n",
    "for i in range(len(df)):\n",
    "\n",
    "  min_rmse_dist = 100000\n",
    "  min_rmse_area = 100000\n",
    "  min_rmse_overall = 100000\n",
    "\n",
    "  for j in range(len(df2)):\n",
    "\n",
    "    rmse_ij_dist = rmse(df['dist_distribution'][i], df2['dist_distribution'][j])\n",
    "    rmse_ij_area = rmse(df['area_distribution'][i], df2['area_distribution'][j])\n",
    "    rmse_ij_overall = rmse_ij_area + rmse_ij_dist \n",
    "\n",
    "    if(min_rmse_dist > rmse_ij_dist):\n",
    "      min_rmse_dist = rmse_ij_dist\n",
    "      df['nearest_matching_polygon_wrt_dist'][i] = j\n",
    "\n",
    "    if(min_rmse_area > rmse_ij_area):\n",
    "      min_rmse_area = rmse_ij_area\n",
    "      df['nearest_matching_polygon_wrt_area'][i] = j\n",
    "\n",
    "    if(min_rmse_overall > rmse_ij_overall):\n",
    "      min_rmse_overall = rmse_ij_overall\n",
    "      df['nearest_matching_polygon_overall'][i] = j"
   ]
  },
  {
   "cell_type": "markdown",
   "metadata": {},
   "source": [
    "## Mean based rock Matching (Nearest in 3D Eucledian space) "
   ]
  },
  {
   "cell_type": "code",
   "execution_count": null,
   "metadata": {},
   "outputs": [],
   "source": [
    "df['nearest_matching_polygon_wrt_3d_means_ts_ss'] = None\n",
    "df['min_ts_ss_3d'] = 10000000.0\n",
    "\n",
    "for i in range(len(df)):\n",
    "\n",
    "#   min_3d_dist = 100000000000\n",
    "\n",
    "  for j in range(len(df2)):\n",
    "\n",
    "    dist_3d = TS_SS([df['area_mean'][i], df['dist_mean'][i], df['ecc_mean'][i]], [df2['area_mean'][j], df2['dist_mean'][j], df2['ecc_mean'][j]]) \n",
    "    \n",
    "    if df['min_ts_ss_3d'][i] > dist_3d:\n",
    "        df['min_ts_ss_3d'][i] = dist_3d\n",
    "        df['nearest_matching_polygon_wrt_3d_means_ts_ss'][i] = j"
   ]
  },
  {
   "cell_type": "code",
   "execution_count": 122,
   "metadata": {},
   "outputs": [
    {
     "data": {
      "text/plain": [
       "0       1.654948e-08\n",
       "1       2.445838e-08\n",
       "2       1.016930e-07\n",
       "3       5.923373e-09\n",
       "4       4.416877e-09\n",
       "            ...     \n",
       "7360    8.615610e-09\n",
       "7361    1.998271e-05\n",
       "7362    3.732394e-09\n",
       "7363    3.268173e-09\n",
       "7364    7.695708e-09\n",
       "Name: min_ts_ss_3d, Length: 7365, dtype: float64"
      ]
     },
     "execution_count": 122,
     "metadata": {},
     "output_type": "execute_result"
    }
   ],
   "source": [
    "df['min_ts_ss_3d']"
   ]
  },
  {
   "cell_type": "markdown",
   "metadata": {},
   "source": [
    "## Wasserstein Metric Based Rock Matching "
   ]
  },
  {
   "cell_type": "code",
   "execution_count": null,
   "metadata": {},
   "outputs": [],
   "source": [
    "from scipy import stats "
   ]
  },
  {
   "cell_type": "code",
   "execution_count": null,
   "metadata": {
    "scrolled": true
   },
   "outputs": [],
   "source": [
    "df['nearest_matching_polygon_wrt_dist_was_2o'] = None\n",
    "df['nearest_matching_polygon_wrt_area_was_2o'] = None\n",
    "df['nearest_matching_polygon_wrt_ecc_was_2o'] = None\n",
    "df['nearest_matching_polygon_overall_was_2o'] = None\n",
    "\n",
    "df['min_was_dist_2o'] = 1000000.0\n",
    "df['min_was_area_2o'] = 1000000.0\n",
    "df['min_was_ecc_2o'] = 1000000.0\n",
    "df['min_was_overall_2o'] = 1000000.0\n",
    "\n",
    "weight = [1 for i in range(50)]\n",
    "weight[0] = 1.5\n",
    "\n",
    "\n",
    "for i in range(len(df)):\n",
    "\n",
    "  for j in range(len(df2)):\n",
    "        \n",
    "    was_ij_dist = stats.wasserstein_distance(df['neighbor_stats_dist'][i], df2['neighbor_stats_dist'][j])\n",
    "    was_ij_area = stats.wasserstein_distance(df['neighbor_stats_area'][i], df2['neighbor_stats_area'][j])\n",
    "    was_ij_ecc = stats.wasserstein_distance(df['neighbor_stats_ecc'][i], df2['neighbor_stats_ecc'][j])\n",
    "    \n",
    "    was_ij_overall = was_ij_area + was_ij_dist + was_ij_ecc \n",
    "\n",
    "    if(df['min_was_dist_2o'][i] > was_ij_dist):\n",
    "      df['min_was_dist_2o'][i] = was_ij_dist\n",
    "      df['nearest_matching_polygon_wrt_dist_was_2o'][i] = j\n",
    "\n",
    "    if(df['min_was_area_2o'][i] > was_ij_area):\n",
    "      df['min_was_area_2o'][i] = was_ij_area\n",
    "      df['nearest_matching_polygon_wrt_area_was_2o'][i] = j\n",
    "        \n",
    "    if(df['min_was_ecc_2o'][i] > was_ij_ecc):\n",
    "      df['min_was_ecc_2o'][i] = was_ij_ecc\n",
    "      df['nearest_matching_polygon_wrt_ecc_was_2o'][i] = j\n",
    "\n",
    "    if(df['min_was_overall_2o'][i] > was_ij_overall):\n",
    "      df['min_was_overall_2o'][i] = was_ij_overall\n",
    "      df['nearest_matching_polygon_overall_was_2o'][i] = j\n"
   ]
  },
  {
   "cell_type": "code",
   "execution_count": null,
   "metadata": {},
   "outputs": [],
   "source": [
    "stats.wasserstein_distance(df['dist_distribution'][1], df2['dist_distribution'][5])"
   ]
  },
  {
   "cell_type": "code",
   "execution_count": null,
   "metadata": {},
   "outputs": [],
   "source": [
    "df['min_was_dist'][0]"
   ]
  },
  {
   "cell_type": "code",
   "execution_count": null,
   "metadata": {},
   "outputs": [],
   "source": [
    "df[['min_was_dist', 'nearest_matching_polygon_wrt_dist_was']]"
   ]
  },
  {
   "cell_type": "code",
   "execution_count": null,
   "metadata": {},
   "outputs": [],
   "source": [
    "idx = -1\n",
    "min_was = 1000000\n",
    "\n",
    "for i in range(len(df)):\n",
    "    \n",
    "#     was_now = stats.wasserstein_distance(df['neighbor_stats_area'][i], df2['neighbor_stats_area'][df['nearest_matching_polygon_wrt_area_was_2o'][i]])\n",
    "    \n",
    "    if min_was > df['min_was_ecc'][i]:\n",
    "        min_was = df['min_was_ecc'][i]\n",
    "        idx = i"
   ]
  },
  {
   "cell_type": "code",
   "execution_count": null,
   "metadata": {},
   "outputs": [],
   "source": [
    "idx"
   ]
  },
  {
   "cell_type": "code",
   "execution_count": null,
   "metadata": {},
   "outputs": [],
   "source": [
    "min_was"
   ]
  },
  {
   "cell_type": "code",
   "execution_count": null,
   "metadata": {
    "scrolled": true
   },
   "outputs": [],
   "source": [
    "#WRT DF2 and second order\n",
    "\n",
    "df2['nearest_matching_polygon_wrt_dist_was'] = None\n",
    "df2['nearest_matching_polygon_wrt_area_was'] = None\n",
    "df2['nearest_matching_polygon_wrt_ecc_was'] = None\n",
    "df2['nearest_matching_polygon_overall_was'] = None\n",
    "df2['min_was_dist'] = 1000000\n",
    "df2['min_was_area'] = 1000000\n",
    "df2['min_was_ecc'] = 1000000\n",
    "df2['min_was_overall'] = 1000000\n",
    "\n",
    "\n",
    "for i in range(len(df2)):\n",
    "\n",
    "#   min_was_dist = 1000000\n",
    "#   min_was_area = 1000000\n",
    "#   min_was_ecc = 1000000  \n",
    "#   min_was_overall = 1000000\n",
    "\n",
    "  for j in range(len(df)):\n",
    "\n",
    "    was_ij_dist = stats.wasserstein_distance(df2['neighbor_stats_dist'][i], df['neighbor_stats_dist'][j])\n",
    "    was_ij_area = stats.wasserstein_distance(df2['neighbor_stats_area'][i], df['neighbor_stats_area'][j])\n",
    "    was_ij_ecc = stats.wasserstein_distance(df2['neighbor_stats_ecc'][i], df['neighbor_stats_ecc'][j])\n",
    "    \n",
    "    was_ij_overall = was_ij_area + was_ij_dist + was_ij_ecc \n",
    "\n",
    "    if(df2['min_was_dist'][i] > was_ij_dist):\n",
    "      df2['min_was_dist'][i] = was_ij_dist\n",
    "      df2['nearest_matching_polygon_wrt_dist_was'][i] = j\n",
    "\n",
    "    if(df2['min_was_area'][i] > was_ij_area):\n",
    "      df2['min_was_area'][i] = was_ij_area\n",
    "      df2['nearest_matching_polygon_wrt_area_was'][i] = j\n",
    "        \n",
    "    if(df2['min_was_ecc'][i] > was_ij_ecc):\n",
    "      df2['min_was_ecc'][i] = was_ij_ecc\n",
    "      df2['nearest_matching_polygon_wrt_ecc_was'][i] = j\n",
    "\n",
    "    if(df2['min_was_overall'][i] > was_ij_overall):\n",
    "      df2['min_was_overall'][i] = was_ij_overall\n",
    "      df2['nearest_matching_polygon_overall_was'][i] = j\n",
    "\n"
   ]
  },
  {
   "cell_type": "code",
   "execution_count": null,
   "metadata": {
    "colab": {
     "base_uri": "https://localhost:8080/",
     "height": 1000
    },
    "executionInfo": {
     "elapsed": 286,
     "status": "ok",
     "timestamp": 1655163680557,
     "user": {
      "displayName": "Krutarth Bhatt",
      "userId": "12834935479488028010"
     },
     "user_tz": 420
    },
    "id": "9_7gNDOZsTxo",
    "outputId": "820f087a-09f6-4258-aa2f-150246802691",
    "scrolled": true
   },
   "outputs": [],
   "source": [
    "df2.columns"
   ]
  },
  {
   "cell_type": "code",
   "execution_count": null,
   "metadata": {},
   "outputs": [],
   "source": [
    "df['nearest_matching_polygon_wrt_dist_was'].plot(kind='hist')"
   ]
  },
  {
   "cell_type": "code",
   "execution_count": null,
   "metadata": {
    "colab": {
     "base_uri": "https://localhost:8080/",
     "height": 1000
    },
    "executionInfo": {
     "elapsed": 276,
     "status": "ok",
     "timestamp": 1655164566419,
     "user": {
      "displayName": "Krutarth Bhatt",
      "userId": "12834935479488028010"
     },
     "user_tz": 420
    },
    "id": "ogmCz_PpEltk",
    "outputId": "902c42a8-b0c8-43dc-f17e-f4daaf0a720a",
    "scrolled": true
   },
   "outputs": [],
   "source": [
    "df_match = df[df['nearest_matching_polygon_wrt_ecc_was']==df['nearest_matching_polygon_wrt_area_was']]\n",
    "df_match.reset_index(inplace=True)\n",
    "df_match "
   ]
  },
  {
   "cell_type": "code",
   "execution_count": null,
   "metadata": {},
   "outputs": [],
   "source": [
    "df_match = df"
   ]
  },
  {
   "cell_type": "code",
   "execution_count": null,
   "metadata": {
    "colab": {
     "base_uri": "https://localhost:8080/",
     "height": 1000
    },
    "executionInfo": {
     "elapsed": 12682,
     "status": "ok",
     "timestamp": 1655164581158,
     "user": {
      "displayName": "Krutarth Bhatt",
      "userId": "12834935479488028010"
     },
     "user_tz": 420
    },
    "id": "awXtIsWe0gIu",
    "outputId": "7273ea1c-6846-4c8e-a623-223dff4ec141",
    "scrolled": true
   },
   "outputs": [],
   "source": [
    "\n",
    "for i in range(idx, idx+1):\n",
    "\n",
    "  row_num = i\n",
    "  match1 = gpd.GeoDataFrame(geometry=[df_match['geometry'][row_num]])\n",
    "  match1[\"match\"] = df2['geometry'][df_match['nearest_matching_polygon_wrt_area_was_2o'][row_num]]\n",
    "\n",
    "  # print(i)\n",
    "\n",
    "  fig, axis = plt.subplots(1, 2, figsize=(16,8))\n",
    "  fig.text(0, 0, str(i))\n",
    "  # fig.figure(figsize=(16,8))\n",
    "\n",
    "  match1 = match1.set_geometry('geometry')\n",
    "  # match1['area'] = match1.area\n",
    "  match1.plot(legend=True, figsize=(8, 8), ax=axis[0])\n",
    "\n",
    "  match1 = match1.set_geometry('match')\n",
    "  # match1['area'] = match1.area\n",
    "  match1.plot(legend=True, figsize=(8, 8), ax=axis[1])\n",
    "\n",
    "  fig.show() "
   ]
  },
  {
   "cell_type": "code",
   "execution_count": null,
   "metadata": {
    "colab": {
     "base_uri": "https://localhost:8080/",
     "height": 283
    },
    "executionInfo": {
     "elapsed": 911,
     "status": "ok",
     "timestamp": 1655163776822,
     "user": {
      "displayName": "Krutarth Bhatt",
      "userId": "12834935479488028010"
     },
     "user_tz": 420
    },
    "id": "FkIZplo22FBo",
    "outputId": "8ee1f257-5704-4488-df01-b86c6136f6f2"
   },
   "outputs": [],
   "source": [
    "df['nearest_matching_polygon_wrt_ecc_was'].plot(kind='hist')"
   ]
  },
  {
   "cell_type": "code",
   "execution_count": null,
   "metadata": {
    "id": "inOsOXMagHqn"
   },
   "outputs": [],
   "source": [
    "row_num = 0 \n",
    "match1 = gpd.GeoDataFrame(geometry=[df_match['geometry'][row_num]])\n",
    "\n",
    "match1= match1.append(gpd.GeoDataFrame(geometry=[df2['geometry'][df_match['nearest_matching_polygon_overall'][row_num]]]))\n",
    "match1['code'] = row_num\n",
    "# match1['code'] = row_num  \n"
   ]
  },
  {
   "cell_type": "code",
   "execution_count": null,
   "metadata": {
    "colab": {
     "base_uri": "https://localhost:8080/",
     "height": 112
    },
    "executionInfo": {
     "elapsed": 237,
     "status": "ok",
     "timestamp": 1655168573874,
     "user": {
      "displayName": "Krutarth Bhatt",
      "userId": "12834935479488028010"
     },
     "user_tz": 420
    },
    "id": "Tr39f7kXrFEC",
    "outputId": "486a7f3a-332f-450a-b93b-76d3ca4064f2"
   },
   "outputs": [],
   "source": [
    "match1"
   ]
  },
  {
   "cell_type": "code",
   "execution_count": null,
   "metadata": {
    "id": "uhxOKszqs5lj"
   },
   "outputs": [],
   "source": [
    "for i in range(1, len(df_match)):\n",
    "\n",
    "  row_num = i\n",
    "  match_temp = gpd.GeoDataFrame(geometry=[df_match['geometry'][row_num]])\n",
    "  match_temp = match_temp.append(gpd.GeoDataFrame(geometry=[df2['geometry'][df_match['nearest_matching_polygon_overall'][row_num]]]))\n",
    "  match_temp['code'] = row_num\n",
    "\n",
    "  match1 = match1.append(match_temp)\n"
   ]
  },
  {
   "cell_type": "code",
   "execution_count": null,
   "metadata": {
    "scrolled": true
   },
   "outputs": [],
   "source": [
    "# df['match_centroid'] = None \n",
    "df['match_centroid_area'] = None \n",
    "df['match_centroid_dist'] = None \n",
    "df['match_centroid_ecc'] = None\n",
    "df['match_centroid_overall'] = None\n",
    "\n",
    "for i in range(len(df)):\n",
    "    \n",
    "    df['match_centroid_area'][i] = df2['centroid'][df['nearest_matching_polygon_wrt_area_ts_ss'][i]]\n",
    "    df['match_centroid_dist'][i] = df2['centroid'][df['nearest_matching_polygon_wrt_dist_ts_ss'][i]]\n",
    "    df['match_centroid_ecc'][i] = df2['centroid'][df['nearest_matching_polygon_wrt_ecc_ts_ss'][i]]\n",
    "    df['match_centroid_overall'][i] = df2['centroid'][df['nearest_matching_polygon_overall_ts_ss'][i]]"
   ]
  },
  {
   "cell_type": "code",
   "execution_count": null,
   "metadata": {},
   "outputs": [],
   "source": [
    "from shapely.geometry import Point, LineString\n",
    "df['line_ecc'] = df.apply(lambda x: LineString([x['centroid'], x['match_centroid_ecc']]), axis=1)\n",
    "df['line_area'] = df.apply(lambda x: LineString([x['centroid'], x['match_centroid_area']]), axis=1)\n",
    "df['line_dist'] = df.apply(lambda x: LineString([x['centroid'], x['match_centroid_dist']]), axis=1)\n",
    "df['line_overall'] = df.apply(lambda x: LineString([x['centroid'], x['match_centroid_overall']]), axis=1)"
   ]
  },
  {
   "cell_type": "code",
   "execution_count": null,
   "metadata": {},
   "outputs": [],
   "source": [
    "list(df.columns)"
   ]
  },
  {
   "cell_type": "code",
   "execution_count": null,
   "metadata": {},
   "outputs": [],
   "source": [
    "df = df.set_geometry('line')"
   ]
  },
  {
   "cell_type": "code",
   "execution_count": null,
   "metadata": {
    "scrolled": false
   },
   "outputs": [],
   "source": [
    "for i in range(0, 500, 5):\n",
    "    #print(i)\n",
    "\n",
    "    fig, ax = plt.subplots(figsize = (16,16))\n",
    "    df_comb.plot(color = df_comb['color'], ax=ax)\n",
    "    df[i:i+5].plot(ax=ax)\n",
    "    #df[100:105].plot(ax=ax)\n",
    "\n",
    "    fig.savefig('output/img' + str(i) + '.png')"
   ]
  },
  {
   "cell_type": "code",
   "execution_count": null,
   "metadata": {
    "scrolled": true
   },
   "outputs": [],
   "source": [
    "from matplotlib.patches import ConnectionPatch\n",
    "\n",
    "for j in range(0, 7000, 1000): \n",
    "    fig= plt.figure(figsize = (40,20))\n",
    "    fig.patch.set_facecolor('white')\n",
    "\n",
    "    ax1 = fig.add_subplot(121)\n",
    "    ax2 = fig.add_subplot(122, sharey=ax1)\n",
    "    ax1.set_title('Aug 2020')\n",
    "    ax2.set_title('Oct 2020')\n",
    "    \n",
    "    df = df.set_geometry('geometry')\n",
    "    df2.plot(color = 'g', ax=ax1)\n",
    "    df.plot(color = 'r', ax=ax2)\n",
    "\n",
    "    for i in range(j, j+1000, 10):\n",
    "        #i = 10\n",
    "        xy = [y for y in df['line_ecc'][i].coords]\n",
    "        #xy = (x[i],y[i])\n",
    "        con = ConnectionPatch(xyA=xy[1], xyB=xy[0], coordsA=\"data\", coordsB=\"data\",\n",
    "                              axesA=ax1, axesB=ax2, color=\"blue\")\n",
    "        ax2.add_artist(con)\n",
    "\n",
    "        ax1.plot(xy[1][0],xy[1][1],'ro',markersize=10)\n",
    "        ax2.plot(xy[0][0],xy[0][1],'ro',markersize=10)\n",
    "\n",
    "    fig.savefig('output/img' + str(j) + '.png')\n",
    "#     plt.show()"
   ]
  },
  {
   "cell_type": "code",
   "execution_count": null,
   "metadata": {},
   "outputs": [],
   "source": [
    "import cv2\n",
    "import numpy as np\n",
    "import os\n",
    "import glob\n",
    "\n",
    "image_folder = r\"output/\"\n",
    "video_file = \"matchings_3fps_ts_ss_10_ecc.mp4\"\n",
    "# image_size = (160, 120)\n",
    "fps = 3\n",
    "\n",
    "#images = [img for img in sorted(glob.glob(image_folder))]\n",
    "images = [img for img in sorted(os.listdir(image_folder)) if '.png' in img]\n",
    "frame = cv2.imread(os.path.join(image_folder, images[0]))\n",
    "height, width, layers = frame.shape\n",
    "image_size = (width,height)\n",
    "\n",
    "out = cv2.VideoWriter(video_file, cv2.VideoWriter_fourcc(*'MP4V'), fps, image_size)\n",
    "\n",
    "img_array = []\n",
    "for filename in images:\n",
    "    img = cv2.imread(os.path.join(image_folder, filename))\n",
    "    img_array.append(img)\n",
    "    out.write(img)\n",
    "\n",
    "out.release()"
   ]
  },
  {
   "cell_type": "code",
   "execution_count": null,
   "metadata": {},
   "outputs": [],
   "source": [
    "df.head()"
   ]
  },
  {
   "cell_type": "code",
   "execution_count": null,
   "metadata": {},
   "outputs": [],
   "source": [
    "list(df.columns)"
   ]
  },
  {
   "cell_type": "code",
   "execution_count": null,
   "metadata": {},
   "outputs": [],
   "source": [
    "df_sorted = df.sort_values('min_ts_ss_area')\n",
    "df_sorted.reset_index(drop=True, inplace=True)\n",
    "df_sorted.head()"
   ]
  },
  {
   "cell_type": "code",
   "execution_count": null,
   "metadata": {},
   "outputs": [],
   "source": [
    "fig, ax = plt.subplots(figsize = (20,20))\n",
    "fig.patch.set_facecolor('white')\n",
    "\n",
    "\n",
    "df2.plot(color = 'g', ax=ax, figsize=(20,20))\n",
    "df.plot(color = 'r', ax=ax , figsize=(20,20))\n",
    "\n",
    "for i in range(0, 10):\n",
    "        #i = 10\n",
    "        xy = [y for y in df_sorted['line_area'][i].coords]\n",
    "        #xy = (x[i],y[i])\n",
    "        con = ConnectionPatch(xyA=xy[1], xyB=xy[0], coordsA=\"data\", coordsB=\"data\",\n",
    "                              axesA=ax, axesB=ax, color=\"blue\")\n",
    "        ax.add_artist(con)\n",
    "\n",
    "        ax.plot(xy[1][0],xy[1][1],'ro',markersize=10, color='g')\n",
    "        ax.plot(xy[0][0],xy[0][1],'ro',markersize=10, color='r')\n",
    "\n",
    "fig.show()"
   ]
  },
  {
   "cell_type": "code",
   "execution_count": null,
   "metadata": {},
   "outputs": [],
   "source": [
    "print(df_sorted['line_ecc'][0])"
   ]
  },
  {
   "cell_type": "code",
   "execution_count": null,
   "metadata": {},
   "outputs": [],
   "source": [
    "df_sorted['centroid'][0].x"
   ]
  }
 ],
 "metadata": {
  "colab": {
   "authorship_tag": "ABX9TyOeYKAzcQqeq6FIgLSdtaPf",
   "collapsed_sections": [
    "n_QtgWLEtwM2",
    "5dc1ncTIt0AS",
    "RcJPQqPZT3na"
   ],
   "mount_file_id": "1BL0HmNwDCnnVLLXQU6V6XdD2AeKiXt8A",
   "name": "Rock_Matching.ipynb",
   "provenance": []
  },
  "kernelspec": {
   "display_name": "Python 3 (ipykernel)",
   "language": "python",
   "name": "python3"
  },
  "language_info": {
   "codemirror_mode": {
    "name": "ipython",
    "version": 3
   },
   "file_extension": ".py",
   "mimetype": "text/x-python",
   "name": "python",
   "nbconvert_exporter": "python",
   "pygments_lexer": "ipython3",
   "version": "3.7.13"
  }
 },
 "nbformat": 4,
 "nbformat_minor": 1
}
